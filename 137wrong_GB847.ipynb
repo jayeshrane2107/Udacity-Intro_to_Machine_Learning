{
  "cells": [
    {
      "metadata": {
        "_execution_state": "busy",
        "_uuid": "81dbd118f0bca0ccae7efa5c4368e0a87bd06b0a",
        "_cell_guid": "55356c04-ef86-41f3-8a29-de7e2b694e18"
      },
      "cell_type": "markdown",
      "source": "1. **Feature Exploration, Engineering and Cleaning**\n",
      "outputs": [],
      "execution_count": null
    },
    {
      "metadata": {
        "_execution_state": "idle",
        "_uuid": "a007d1f4aceca14dd943105c14df5635776e5109",
        "_cell_guid": "d0137d97-3414-4e2b-9f85-a1b2a0553bef",
        "collapsed": true,
        "trusted": true
      },
      "cell_type": "code",
      "source": "import pandas as pd\nimport numpy as np\nfrom matplotlib import pyplot as plt\n%matplotlib inline\nplt.style.use('ggplot')\npd.set_option('display.max_columns', 50)",
      "execution_count": 1332,
      "outputs": []
    },
    {
      "metadata": {
        "_uuid": "5bd163c69865c039530fee4d3a90dd8029e7c17b",
        "_cell_guid": "5748175a-2ed2-4cd2-8ec7-556deb1d0ec2"
      },
      "cell_type": "markdown",
      "source": "**Reading** train dataset (891 records) and test dataset(418 records).\n**Combining** both datasets to fill the missing values to be more accurate.",
      "outputs": [],
      "execution_count": null
    },
    {
      "metadata": {
        "_execution_state": "idle",
        "_uuid": "a34800ae98e42585d77d7dbbcfd3b52e14e73109",
        "_cell_guid": "f465924b-3438-4596-b5ff-471f5075e0dc",
        "trusted": true
      },
      "cell_type": "code",
      "source": "train = pd.read_csv('../input/train.csv')\ntest = pd.read_csv('../input/test.csv')\ncombined = pd.concat([train,test],axis=0,ignore_index=True)\ncombined.shape",
      "execution_count": 1333,
      "outputs": [
        {
          "output_type": "execute_result",
          "data": {
            "text/plain": "(1309, 12)"
          },
          "metadata": {},
          "execution_count": 1333
        }
      ]
    },
    {
      "metadata": {
        "_uuid": "e9ea900e9ba937f194d793ef672db0cac6a6ae6b",
        "_cell_guid": "d51917e2-18e3-4de4-aa79-48b86f328eeb"
      },
      "cell_type": "markdown",
      "source": "**Observation** - First go through the combined dataset\n* Fare\n> 1. you will observe that different people has same ticket number and same fare.\n> 1. so we have to average the value of Fare for each individual.\n> 1. but first, we have to make sure Fare value does not have any null values.\n* Cabin\n> 1. you will observe that missing Cabin values can be assigned from the same ticket number.",
      "outputs": [],
      "execution_count": null
    },
    {
      "metadata": {
        "_execution_state": "idle",
        "_uuid": "7ce15f1a5163190a821e55acb9aba6bade47dd6b",
        "scrolled": true,
        "_cell_guid": "69c084b7-3c30-49b6-9bae-13965d5925c5",
        "trusted": true
      },
      "cell_type": "code",
      "source": "combined.sort_values(['Fare','PassengerId'], ascending=[0,1]).head()",
      "execution_count": 1334,
      "outputs": [
        {
          "output_type": "execute_result",
          "data": {
            "text/plain": "       Age        Cabin Embarked      Fare  \\\n258   35.0          NaN        C  512.3292   \n679   36.0  B51 B53 B55        C  512.3292   \n737   35.0         B101        C  512.3292   \n1234  58.0  B51 B53 B55        C  512.3292   \n27    19.0  C23 C25 C27        S  263.0000   \n\n                                                   Name  Parch  PassengerId  \\\n258                                    Ward, Miss. Anna      0          259   \n679                  Cardeza, Mr. Thomas Drake Martinez      1          680   \n737                              Lesurer, Mr. Gustave J      0          738   \n1234  Cardeza, Mrs. James Warburton Martinez (Charlo...      1         1235   \n27                       Fortune, Mr. Charles Alexander      2           28   \n\n      Pclass     Sex  SibSp  Survived    Ticket  \n258        1  female      0       1.0  PC 17755  \n679        1    male      0       1.0  PC 17755  \n737        1    male      0       1.0  PC 17755  \n1234       1  female      0       NaN  PC 17755  \n27         1    male      3       0.0     19950  ",
            "text/html": "<div>\n<style>\n    .dataframe thead tr:only-child th {\n        text-align: right;\n    }\n\n    .dataframe thead th {\n        text-align: left;\n    }\n\n    .dataframe tbody tr th {\n        vertical-align: top;\n    }\n</style>\n<table border=\"1\" class=\"dataframe\">\n  <thead>\n    <tr style=\"text-align: right;\">\n      <th></th>\n      <th>Age</th>\n      <th>Cabin</th>\n      <th>Embarked</th>\n      <th>Fare</th>\n      <th>Name</th>\n      <th>Parch</th>\n      <th>PassengerId</th>\n      <th>Pclass</th>\n      <th>Sex</th>\n      <th>SibSp</th>\n      <th>Survived</th>\n      <th>Ticket</th>\n    </tr>\n  </thead>\n  <tbody>\n    <tr>\n      <th>258</th>\n      <td>35.0</td>\n      <td>NaN</td>\n      <td>C</td>\n      <td>512.3292</td>\n      <td>Ward, Miss. Anna</td>\n      <td>0</td>\n      <td>259</td>\n      <td>1</td>\n      <td>female</td>\n      <td>0</td>\n      <td>1.0</td>\n      <td>PC 17755</td>\n    </tr>\n    <tr>\n      <th>679</th>\n      <td>36.0</td>\n      <td>B51 B53 B55</td>\n      <td>C</td>\n      <td>512.3292</td>\n      <td>Cardeza, Mr. Thomas Drake Martinez</td>\n      <td>1</td>\n      <td>680</td>\n      <td>1</td>\n      <td>male</td>\n      <td>0</td>\n      <td>1.0</td>\n      <td>PC 17755</td>\n    </tr>\n    <tr>\n      <th>737</th>\n      <td>35.0</td>\n      <td>B101</td>\n      <td>C</td>\n      <td>512.3292</td>\n      <td>Lesurer, Mr. Gustave J</td>\n      <td>0</td>\n      <td>738</td>\n      <td>1</td>\n      <td>male</td>\n      <td>0</td>\n      <td>1.0</td>\n      <td>PC 17755</td>\n    </tr>\n    <tr>\n      <th>1234</th>\n      <td>58.0</td>\n      <td>B51 B53 B55</td>\n      <td>C</td>\n      <td>512.3292</td>\n      <td>Cardeza, Mrs. James Warburton Martinez (Charlo...</td>\n      <td>1</td>\n      <td>1235</td>\n      <td>1</td>\n      <td>female</td>\n      <td>0</td>\n      <td>NaN</td>\n      <td>PC 17755</td>\n    </tr>\n    <tr>\n      <th>27</th>\n      <td>19.0</td>\n      <td>C23 C25 C27</td>\n      <td>S</td>\n      <td>263.0000</td>\n      <td>Fortune, Mr. Charles Alexander</td>\n      <td>2</td>\n      <td>28</td>\n      <td>1</td>\n      <td>male</td>\n      <td>3</td>\n      <td>0.0</td>\n      <td>19950</td>\n    </tr>\n  </tbody>\n</table>\n</div>"
          },
          "metadata": {},
          "execution_count": 1334
        }
      ]
    },
    {
      "metadata": {
        "_uuid": "a5ed1c0df02013371ae39595581652de0cd22ac4",
        "_cell_guid": "699e427d-290d-46d4-8fdc-bfd9b5716c19"
      },
      "cell_type": "markdown",
      "source": "* Counting null in each colum from combined dataset",
      "outputs": [],
      "execution_count": null
    },
    {
      "metadata": {
        "_execution_state": "idle",
        "_uuid": "bbd044ce53bb6b674f1be14c26af6744367b955f",
        "_cell_guid": "aaedd3c5-555e-4744-a197-1df24a48b64c",
        "trusted": true
      },
      "cell_type": "code",
      "source": "combined.isnull().sum()",
      "execution_count": 1335,
      "outputs": [
        {
          "output_type": "execute_result",
          "data": {
            "text/plain": "Age             263\nCabin          1014\nEmbarked          2\nFare              1\nName              0\nParch             0\nPassengerId       0\nPclass            0\nSex               0\nSibSp             0\nSurvived        418\nTicket            0\ndtype: int64"
          },
          "metadata": {},
          "execution_count": 1335
        }
      ]
    },
    {
      "metadata": {
        "_uuid": "4ae87e05fc7cb1a69be1f8b4f5c0839aa686aaba",
        "_cell_guid": "416504c1-55a2-4123-889e-fabeaf24b6c3"
      },
      "cell_type": "markdown",
      "source": "**Fare Cleaning** - Fill missing **Fare** value by taking median of Fare for respective Pclass. \n> As Fare is proportional to Pclass.\n* print(combined[combined['Fare'].isnull()])\n* print(combined.groupby('Pclass').mean()['Fare'])\n* print(combined.groupby('Pclass').median()['Fare'])\n        Mean > Median, i.e. positively skewed data\n* print(combined.loc[1043])",
      "outputs": [],
      "execution_count": null
    },
    {
      "metadata": {
        "_execution_state": "idle",
        "_uuid": "98ee120107ad4e3dd09c57d336470828006d87b9",
        "scrolled": true,
        "_cell_guid": "510d9af1-2032-4e1b-ae25-92e90e1457ad",
        "trusted": true
      },
      "cell_type": "code",
      "source": "fig,axes=plt.subplots(1,2,figsize=(10,5))\nplt.subplot(1,2,1)\ncombined['Fare'].groupby(combined['Pclass']).median().plot(kind='bar',title='Median')\nplt.xticks(rotation=0)\nplt.subplot(1,2,2)\ncombined['Fare'].groupby(combined['Pclass']).mean().plot(kind='bar',title='Mean')\nplt.xticks(rotation=0)\nplt.show()\n\ncombined['Fare'] = combined['Fare'].groupby(combined['Pclass']).apply(lambda x: x.fillna(x.median()))",
      "execution_count": 1336,
      "outputs": [
        {
          "output_type": "display_data",
          "data": {
            "text/plain": "<matplotlib.figure.Figure at 0x7f045028a668>",
            "image/png": "[encoded data removed]"
          },
          "metadata": {},
          "transient": {}
        }
      ]
    },
    {
      "metadata": {
        "_uuid": "34f7484a40fe4499b431508b4ef23b791e8019fb",
        "_cell_guid": "5454f37f-0d14-462c-84d1-f8e803fafea4"
      },
      "cell_type": "markdown",
      "source": "**Fare_per_person** -\n> * Creating **Fare_per_person** feature representing the fare per person i.e. splitting the total fare in a single ticket.",
      "outputs": [],
      "execution_count": null
    },
    {
      "metadata": {
        "_execution_state": "idle",
        "_uuid": "8997f55a928d3c550061bead89aeb32463f605be",
        "_cell_guid": "58dd3e69-2592-42e2-b0f8-114b091b5889",
        "trusted": true
      },
      "cell_type": "code",
      "source": "combined['Fare_per_person'] = combined['Fare'].groupby(combined['Ticket']).transform(lambda x: x / x.count())\ncombined.sort_values(['Fare','PassengerId'], ascending=[0,1]).head()",
      "execution_count": 1337,
      "outputs": [
        {
          "output_type": "execute_result",
          "data": {
            "text/plain": "       Age        Cabin Embarked      Fare  \\\n258   35.0          NaN        C  512.3292   \n679   36.0  B51 B53 B55        C  512.3292   \n737   35.0         B101        C  512.3292   \n1234  58.0  B51 B53 B55        C  512.3292   \n27    19.0  C23 C25 C27        S  263.0000   \n\n                                                   Name  Parch  PassengerId  \\\n258                                    Ward, Miss. Anna      0          259   \n679                  Cardeza, Mr. Thomas Drake Martinez      1          680   \n737                              Lesurer, Mr. Gustave J      0          738   \n1234  Cardeza, Mrs. James Warburton Martinez (Charlo...      1         1235   \n27                       Fortune, Mr. Charles Alexander      2           28   \n\n      Pclass     Sex  SibSp  Survived    Ticket  Fare_per_person  \n258        1  female      0       1.0  PC 17755       128.082300  \n679        1    male      0       1.0  PC 17755       128.082300  \n737        1    male      0       1.0  PC 17755       128.082300  \n1234       1  female      0       NaN  PC 17755       128.082300  \n27         1    male      3       0.0     19950        43.833333  ",
            "text/html": "<div>\n<style>\n    .dataframe thead tr:only-child th {\n        text-align: right;\n    }\n\n    .dataframe thead th {\n        text-align: left;\n    }\n\n    .dataframe tbody tr th {\n        vertical-align: top;\n    }\n</style>\n<table border=\"1\" class=\"dataframe\">\n  <thead>\n    <tr style=\"text-align: right;\">\n      <th></th>\n      <th>Age</th>\n      <th>Cabin</th>\n      <th>Embarked</th>\n      <th>Fare</th>\n      <th>Name</th>\n      <th>Parch</th>\n      <th>PassengerId</th>\n      <th>Pclass</th>\n      <th>Sex</th>\n      <th>SibSp</th>\n      <th>Survived</th>\n      <th>Ticket</th>\n      <th>Fare_per_person</th>\n    </tr>\n  </thead>\n  <tbody>\n    <tr>\n      <th>258</th>\n      <td>35.0</td>\n      <td>NaN</td>\n      <td>C</td>\n      <td>512.3292</td>\n      <td>Ward, Miss. Anna</td>\n      <td>0</td>\n      <td>259</td>\n      <td>1</td>\n      <td>female</td>\n      <td>0</td>\n      <td>1.0</td>\n      <td>PC 17755</td>\n      <td>128.082300</td>\n    </tr>\n    <tr>\n      <th>679</th>\n      <td>36.0</td>\n      <td>B51 B53 B55</td>\n      <td>C</td>\n      <td>512.3292</td>\n      <td>Cardeza, Mr. Thomas Drake Martinez</td>\n      <td>1</td>\n      <td>680</td>\n      <td>1</td>\n      <td>male</td>\n      <td>0</td>\n      <td>1.0</td>\n      <td>PC 17755</td>\n      <td>128.082300</td>\n    </tr>\n    <tr>\n      <th>737</th>\n      <td>35.0</td>\n      <td>B101</td>\n      <td>C</td>\n      <td>512.3292</td>\n      <td>Lesurer, Mr. Gustave J</td>\n      <td>0</td>\n      <td>738</td>\n      <td>1</td>\n      <td>male</td>\n      <td>0</td>\n      <td>1.0</td>\n      <td>PC 17755</td>\n      <td>128.082300</td>\n    </tr>\n    <tr>\n      <th>1234</th>\n      <td>58.0</td>\n      <td>B51 B53 B55</td>\n      <td>C</td>\n      <td>512.3292</td>\n      <td>Cardeza, Mrs. James Warburton Martinez (Charlo...</td>\n      <td>1</td>\n      <td>1235</td>\n      <td>1</td>\n      <td>female</td>\n      <td>0</td>\n      <td>NaN</td>\n      <td>PC 17755</td>\n      <td>128.082300</td>\n    </tr>\n    <tr>\n      <th>27</th>\n      <td>19.0</td>\n      <td>C23 C25 C27</td>\n      <td>S</td>\n      <td>263.0000</td>\n      <td>Fortune, Mr. Charles Alexander</td>\n      <td>2</td>\n      <td>28</td>\n      <td>1</td>\n      <td>male</td>\n      <td>3</td>\n      <td>0.0</td>\n      <td>19950</td>\n      <td>43.833333</td>\n    </tr>\n  </tbody>\n</table>\n</div>"
          },
          "metadata": {},
          "execution_count": 1337
        }
      ]
    },
    {
      "metadata": {
        "_uuid": "29e32c7f1e3ab3fa310c14be9abf571b3dc5fb0f",
        "_cell_guid": "69c8d64e-fba3-4c7e-be10-f94eeac9874b"
      },
      "cell_type": "markdown",
      "source": "**Cabin Cleaning** -  Assigning the missing **Cabin** values with repect to the Ticket number. \n> * We are interested in the Cabin class instead of Cabin number. \n> * And also unknown Cabin is represented by 'U'.",
      "outputs": [],
      "execution_count": null
    },
    {
      "metadata": {
        "_execution_state": "idle",
        "_uuid": "6c2f5a4f2ba182db663f478a3f833f135e0cb5c8",
        "_cell_guid": "d4f07114-496f-4263-bdcd-a6e4d57d09bf",
        "trusted": true
      },
      "cell_type": "code",
      "source": "combined['Cabin'] = combined['Cabin'].groupby(combined['Ticket']).apply(lambda x: x.fillna(x.astype(str).str[0].mode()[0])).apply(lambda x: x[0]).apply(lambda x: 'U' if(x=='n') else x)\ncombined.sort_values(['Fare','PassengerId'], ascending=[0,1]).head()",
      "execution_count": 1338,
      "outputs": [
        {
          "output_type": "execute_result",
          "data": {
            "text/plain": "       Age Cabin Embarked      Fare  \\\n258   35.0     B        C  512.3292   \n679   36.0     B        C  512.3292   \n737   35.0     B        C  512.3292   \n1234  58.0     B        C  512.3292   \n27    19.0     C        S  263.0000   \n\n                                                   Name  Parch  PassengerId  \\\n258                                    Ward, Miss. Anna      0          259   \n679                  Cardeza, Mr. Thomas Drake Martinez      1          680   \n737                              Lesurer, Mr. Gustave J      0          738   \n1234  Cardeza, Mrs. James Warburton Martinez (Charlo...      1         1235   \n27                       Fortune, Mr. Charles Alexander      2           28   \n\n      Pclass     Sex  SibSp  Survived    Ticket  Fare_per_person  \n258        1  female      0       1.0  PC 17755       128.082300  \n679        1    male      0       1.0  PC 17755       128.082300  \n737        1    male      0       1.0  PC 17755       128.082300  \n1234       1  female      0       NaN  PC 17755       128.082300  \n27         1    male      3       0.0     19950        43.833333  ",
            "text/html": "<div>\n<style>\n    .dataframe thead tr:only-child th {\n        text-align: right;\n    }\n\n    .dataframe thead th {\n        text-align: left;\n    }\n\n    .dataframe tbody tr th {\n        vertical-align: top;\n    }\n</style>\n<table border=\"1\" class=\"dataframe\">\n  <thead>\n    <tr style=\"text-align: right;\">\n      <th></th>\n      <th>Age</th>\n      <th>Cabin</th>\n      <th>Embarked</th>\n      <th>Fare</th>\n      <th>Name</th>\n      <th>Parch</th>\n      <th>PassengerId</th>\n      <th>Pclass</th>\n      <th>Sex</th>\n      <th>SibSp</th>\n      <th>Survived</th>\n      <th>Ticket</th>\n      <th>Fare_per_person</th>\n    </tr>\n  </thead>\n  <tbody>\n    <tr>\n      <th>258</th>\n      <td>35.0</td>\n      <td>B</td>\n      <td>C</td>\n      <td>512.3292</td>\n      <td>Ward, Miss. Anna</td>\n      <td>0</td>\n      <td>259</td>\n      <td>1</td>\n      <td>female</td>\n      <td>0</td>\n      <td>1.0</td>\n      <td>PC 17755</td>\n      <td>128.082300</td>\n    </tr>\n    <tr>\n      <th>679</th>\n      <td>36.0</td>\n      <td>B</td>\n      <td>C</td>\n      <td>512.3292</td>\n      <td>Cardeza, Mr. Thomas Drake Martinez</td>\n      <td>1</td>\n      <td>680</td>\n      <td>1</td>\n      <td>male</td>\n      <td>0</td>\n      <td>1.0</td>\n      <td>PC 17755</td>\n      <td>128.082300</td>\n    </tr>\n    <tr>\n      <th>737</th>\n      <td>35.0</td>\n      <td>B</td>\n      <td>C</td>\n      <td>512.3292</td>\n      <td>Lesurer, Mr. Gustave J</td>\n      <td>0</td>\n      <td>738</td>\n      <td>1</td>\n      <td>male</td>\n      <td>0</td>\n      <td>1.0</td>\n      <td>PC 17755</td>\n      <td>128.082300</td>\n    </tr>\n    <tr>\n      <th>1234</th>\n      <td>58.0</td>\n      <td>B</td>\n      <td>C</td>\n      <td>512.3292</td>\n      <td>Cardeza, Mrs. James Warburton Martinez (Charlo...</td>\n      <td>1</td>\n      <td>1235</td>\n      <td>1</td>\n      <td>female</td>\n      <td>0</td>\n      <td>NaN</td>\n      <td>PC 17755</td>\n      <td>128.082300</td>\n    </tr>\n    <tr>\n      <th>27</th>\n      <td>19.0</td>\n      <td>C</td>\n      <td>S</td>\n      <td>263.0000</td>\n      <td>Fortune, Mr. Charles Alexander</td>\n      <td>2</td>\n      <td>28</td>\n      <td>1</td>\n      <td>male</td>\n      <td>3</td>\n      <td>0.0</td>\n      <td>19950</td>\n      <td>43.833333</td>\n    </tr>\n  </tbody>\n</table>\n</div>"
          },
          "metadata": {},
          "execution_count": 1338
        }
      ]
    },
    {
      "metadata": {
        "_uuid": "94beae2ff7828b982068ff32262704e3d5d72703",
        "_cell_guid": "3334dd54-fcac-450c-8a97-f976ed9bedfc"
      },
      "cell_type": "markdown",
      "source": "Below table represents the survival percentage of person corresponding to his/hers Cabin.",
      "outputs": [],
      "execution_count": null
    },
    {
      "metadata": {
        "_execution_state": "idle",
        "_uuid": "de4c956d78ca850156f7aee01cfd0aa3ab9ff87c",
        "_cell_guid": "8c52da96-c67c-4318-9c38-c769fb691edf",
        "trusted": true
      },
      "cell_type": "code",
      "source": "pd.crosstab(combined[combined['Survived'].notnull()]['Cabin'],combined['Survived']).apply(lambda x : x / x.sum() * 100,axis=1)",
      "execution_count": 1339,
      "outputs": [
        {
          "output_type": "execute_result",
          "data": {
            "text/plain": "Survived         0.0        1.0\nCabin                          \nA          53.333333  46.666667\nB          25.000000  75.000000\nC          38.805970  61.194030\nD          24.242424  75.757576\nE          27.272727  72.727273\nF          38.461538  61.538462\nG          50.000000  50.000000\nT         100.000000   0.000000\nU          70.605613  29.394387",
            "text/html": "<div>\n<style>\n    .dataframe thead tr:only-child th {\n        text-align: right;\n    }\n\n    .dataframe thead th {\n        text-align: left;\n    }\n\n    .dataframe tbody tr th {\n        vertical-align: top;\n    }\n</style>\n<table border=\"1\" class=\"dataframe\">\n  <thead>\n    <tr style=\"text-align: right;\">\n      <th>Survived</th>\n      <th>0.0</th>\n      <th>1.0</th>\n    </tr>\n    <tr>\n      <th>Cabin</th>\n      <th></th>\n      <th></th>\n    </tr>\n  </thead>\n  <tbody>\n    <tr>\n      <th>A</th>\n      <td>53.333333</td>\n      <td>46.666667</td>\n    </tr>\n    <tr>\n      <th>B</th>\n      <td>25.000000</td>\n      <td>75.000000</td>\n    </tr>\n    <tr>\n      <th>C</th>\n      <td>38.805970</td>\n      <td>61.194030</td>\n    </tr>\n    <tr>\n      <th>D</th>\n      <td>24.242424</td>\n      <td>75.757576</td>\n    </tr>\n    <tr>\n      <th>E</th>\n      <td>27.272727</td>\n      <td>72.727273</td>\n    </tr>\n    <tr>\n      <th>F</th>\n      <td>38.461538</td>\n      <td>61.538462</td>\n    </tr>\n    <tr>\n      <th>G</th>\n      <td>50.000000</td>\n      <td>50.000000</td>\n    </tr>\n    <tr>\n      <th>T</th>\n      <td>100.000000</td>\n      <td>0.000000</td>\n    </tr>\n    <tr>\n      <th>U</th>\n      <td>70.605613</td>\n      <td>29.394387</td>\n    </tr>\n  </tbody>\n</table>\n</div>"
          },
          "metadata": {},
          "execution_count": 1339
        }
      ]
    },
    {
      "metadata": {
        "_uuid": "16bfc6c6e28ba525f0273f3048b85ac3f8b60af0",
        "_cell_guid": "daf35ab4-bc1f-4e39-95b7-0ef802a560af"
      },
      "cell_type": "markdown",
      "source": "**Cabin_survived** - Grouping above Cabin categories\n> * having high survival percentage (i.e. B,C,D,E,F) as 1 \n> * having low survival percentage (i.e. A,G,T,U) as 0\n",
      "outputs": [],
      "execution_count": null
    },
    {
      "metadata": {
        "_execution_state": "idle",
        "_uuid": "ed7118e50184937516863dabbc0d7477a4dbb9e8",
        "_cell_guid": "d835529c-0a66-4c47-9378-e778cb12b53b",
        "collapsed": true,
        "trusted": true
      },
      "cell_type": "code",
      "source": "combined['Cabin_survived'] = combined['Cabin'].apply(lambda x: 1 if(x in ['B','C','D','E','F']) else 0)",
      "execution_count": 1340,
      "outputs": []
    },
    {
      "metadata": {
        "_uuid": "088a8e8a3eb7ddbc2f2bd51dd8ef64e43a5debf0",
        "_cell_guid": "300a24e8-67fa-4172-95c1-f78dbd1b0e9f"
      },
      "cell_type": "markdown",
      "source": "**Embarked Cleaning** - Fill missing **Embarked** values by taking mode of Embarked. \n> * As it is most probable that these people might have got onboard as the majority of people did.\n",
      "outputs": [],
      "execution_count": null
    },
    {
      "metadata": {
        "_execution_state": "idle",
        "_uuid": "8c87f0f556392f4e4bc1759b07a551cb185775c9",
        "_cell_guid": "cc96ce2e-6813-4a0a-9b24-2e57698422a1",
        "trusted": true
      },
      "cell_type": "code",
      "source": "combined['Embarked'].value_counts().plot(kind='bar',figsize=(5,5),title='Embarked counts')\nplt.xticks(rotation=0)\nplt.xlabel('Embarked')\nplt.show()\n\ncombined['Embarked'].fillna(combined['Embarked'].mode()[0],inplace=True)",
      "execution_count": 1341,
      "outputs": [
        {
          "output_type": "display_data",
          "data": {
            "text/plain": "<matplotlib.figure.Figure at 0x7f044fe689b0>",
            "image/png": "[encoded data removed]"
          },
          "metadata": {},
          "transient": {}
        }
      ]
    },
    {
      "metadata": {
        "_uuid": "d707dfd31f8f13f52bc2814ccd06712cc70f6182",
        "_cell_guid": "4aa5fec0-ed54-4eba-b774-8c98e9b6124b"
      },
      "cell_type": "markdown",
      "source": "**Title** -\n> **What's in a name?** -  William Shakespeare.\n> * We are interested in the **Title** of the Name which should correspond to its appropriate  Age and Sex.",
      "outputs": [],
      "execution_count": null
    },
    {
      "metadata": {
        "_execution_state": "idle",
        "_uuid": "ab29a4dcd4f97e960554324daaa77019346df0b7",
        "_cell_guid": "2b4a7ec7-5afe-4659-a087-18936357f79f",
        "trusted": true
      },
      "cell_type": "code",
      "source": "combined['Title'] = combined['Name'].apply(lambda x: x.split(', ')[1].split('.')[0].strip())\npd.crosstab(combined['Title'],combined['Sex'])",
      "execution_count": 1342,
      "outputs": [
        {
          "output_type": "execute_result",
          "data": {
            "text/plain": "Sex           female  male\nTitle                     \nCapt               0     1\nCol                0     4\nDon                0     1\nDona               1     0\nDr                 1     7\nJonkheer           0     1\nLady               1     0\nMajor              0     2\nMaster             0    61\nMiss             260     0\nMlle               2     0\nMme                1     0\nMr                 0   757\nMrs              197     0\nMs                 2     0\nRev                0     8\nSir                0     1\nthe Countess       1     0",
            "text/html": "<div>\n<style>\n    .dataframe thead tr:only-child th {\n        text-align: right;\n    }\n\n    .dataframe thead th {\n        text-align: left;\n    }\n\n    .dataframe tbody tr th {\n        vertical-align: top;\n    }\n</style>\n<table border=\"1\" class=\"dataframe\">\n  <thead>\n    <tr style=\"text-align: right;\">\n      <th>Sex</th>\n      <th>female</th>\n      <th>male</th>\n    </tr>\n    <tr>\n      <th>Title</th>\n      <th></th>\n      <th></th>\n    </tr>\n  </thead>\n  <tbody>\n    <tr>\n      <th>Capt</th>\n      <td>0</td>\n      <td>1</td>\n    </tr>\n    <tr>\n      <th>Col</th>\n      <td>0</td>\n      <td>4</td>\n    </tr>\n    <tr>\n      <th>Don</th>\n      <td>0</td>\n      <td>1</td>\n    </tr>\n    <tr>\n      <th>Dona</th>\n      <td>1</td>\n      <td>0</td>\n    </tr>\n    <tr>\n      <th>Dr</th>\n      <td>1</td>\n      <td>7</td>\n    </tr>\n    <tr>\n      <th>Jonkheer</th>\n      <td>0</td>\n      <td>1</td>\n    </tr>\n    <tr>\n      <th>Lady</th>\n      <td>1</td>\n      <td>0</td>\n    </tr>\n    <tr>\n      <th>Major</th>\n      <td>0</td>\n      <td>2</td>\n    </tr>\n    <tr>\n      <th>Master</th>\n      <td>0</td>\n      <td>61</td>\n    </tr>\n    <tr>\n      <th>Miss</th>\n      <td>260</td>\n      <td>0</td>\n    </tr>\n    <tr>\n      <th>Mlle</th>\n      <td>2</td>\n      <td>0</td>\n    </tr>\n    <tr>\n      <th>Mme</th>\n      <td>1</td>\n      <td>0</td>\n    </tr>\n    <tr>\n      <th>Mr</th>\n      <td>0</td>\n      <td>757</td>\n    </tr>\n    <tr>\n      <th>Mrs</th>\n      <td>197</td>\n      <td>0</td>\n    </tr>\n    <tr>\n      <th>Ms</th>\n      <td>2</td>\n      <td>0</td>\n    </tr>\n    <tr>\n      <th>Rev</th>\n      <td>0</td>\n      <td>8</td>\n    </tr>\n    <tr>\n      <th>Sir</th>\n      <td>0</td>\n      <td>1</td>\n    </tr>\n    <tr>\n      <th>the Countess</th>\n      <td>1</td>\n      <td>0</td>\n    </tr>\n  </tbody>\n</table>\n</div>"
          },
          "metadata": {},
          "execution_count": 1342
        }
      ]
    },
    {
      "metadata": {
        "_uuid": "ea3a55256ec744459cf5f69aa94f25cf8efd2840",
        "_cell_guid": "99f053bd-aca6-4080-9286-3f3902c3ca7f"
      },
      "cell_type": "markdown",
      "source": "1. Here we can observe that each Title is having distinct Sex, except **Dr.** which is having Sex male as a majority. So we are going to manually assign Female Dr to Sparsewomen.\n1. And grouping the titles having less count to Sparsemen & Sparsewomen for male & female respectively.",
      "outputs": [],
      "execution_count": null
    },
    {
      "metadata": {
        "_execution_state": "idle",
        "_uuid": "2f361891b520601784a08c0e2ab0be28bae988ab",
        "_cell_guid": "ada04116-1c8e-4bc5-bddf-99f55210b3dd",
        "collapsed": true,
        "trusted": true
      },
      "cell_type": "code",
      "source": "combined.loc[(combined['Title']=='Dr') & (combined['Sex']=='female'),'Title'] = 'Mrs'\ntitle_mapping = {'Capt':'Mr', 'Col':'Mr','Don':'Mr','Dona':'Mrs',\n                 'Dr':'Mr','Jonkheer':'Mr','Lady':'Mrs','Major':'Mr',\n                 'Master':'Master','Miss':'Miss','Mlle':'Miss','Mme':'Mrs',\n                 'Mr':'Mr','Mrs':'Mrs','Ms':'Miss','Rev':'Mr','Sir':'Mr',\n                 'the Countess':'Mrs'}\n#title_mapping = {'Capt':'Rareman', 'Col':'Rareman','Don':'Rareman','Dona':'Rarewoman',\n#    'Dr':'Rareman','Jonkheer':'Rareman','Lady':'Rarewoman','Major':'Rareman',\n#    'Master':'Master','Miss':'Miss','Mlle':'Rarewoman','Mme':'Rarewoman',\n#    'Mr':'Mr','Mrs':'Mrs','Ms':'Rarewoman','Rev':'Mr','Sir':'Rareman',\n#    'the Countess':'Rarewoman'}\ncombined['Title'] = combined['Title'].map(title_mapping)",
      "execution_count": 1343,
      "outputs": []
    },
    {
      "metadata": {
        "_execution_state": "idle",
        "_uuid": "519be30ea8ced73f44e0962e69a2b1730fd0fcc9",
        "_cell_guid": "d7951f19-0271-4a24-9260-69fb7bc48ae2",
        "trusted": true
      },
      "cell_type": "code",
      "source": "pd.DataFrame(dict(Max_Age = combined['Age'].groupby(combined['Title']).max(), \n                  Min_Age = combined['Age'].groupby(combined['Title']).min(),\n                  Mean_Age = combined['Age'].groupby(combined['Title']).mean()))",
      "execution_count": 1344,
      "outputs": [
        {
          "output_type": "execute_result",
          "data": {
            "text/plain": "        Max_Age   Mean_Age  Min_Age\nTitle                              \nMaster     14.5   5.482642     0.33\nMiss       63.0  21.824366     0.17\nMr         80.0  32.784298    11.00\nMrs        76.0  37.040000    14.00",
            "text/html": "<div>\n<style>\n    .dataframe thead tr:only-child th {\n        text-align: right;\n    }\n\n    .dataframe thead th {\n        text-align: left;\n    }\n\n    .dataframe tbody tr th {\n        vertical-align: top;\n    }\n</style>\n<table border=\"1\" class=\"dataframe\">\n  <thead>\n    <tr style=\"text-align: right;\">\n      <th></th>\n      <th>Max_Age</th>\n      <th>Mean_Age</th>\n      <th>Min_Age</th>\n    </tr>\n    <tr>\n      <th>Title</th>\n      <th></th>\n      <th></th>\n      <th></th>\n    </tr>\n  </thead>\n  <tbody>\n    <tr>\n      <th>Master</th>\n      <td>14.5</td>\n      <td>5.482642</td>\n      <td>0.33</td>\n    </tr>\n    <tr>\n      <th>Miss</th>\n      <td>63.0</td>\n      <td>21.824366</td>\n      <td>0.17</td>\n    </tr>\n    <tr>\n      <th>Mr</th>\n      <td>80.0</td>\n      <td>32.784298</td>\n      <td>11.00</td>\n    </tr>\n    <tr>\n      <th>Mrs</th>\n      <td>76.0</td>\n      <td>37.040000</td>\n      <td>14.00</td>\n    </tr>\n  </tbody>\n</table>\n</div>"
          },
          "metadata": {},
          "execution_count": 1344
        }
      ]
    },
    {
      "metadata": {
        "_uuid": "6a62e01ad20e781d0e77d824ad178471b8d41a4f",
        "_cell_guid": "49fc533b-1e67-413b-acff-fb6ff6207c70"
      },
      "cell_type": "markdown",
      "source": "Assigning Miss age smaller than 14 to **Girl** Title.\n> As you can see that there is no separate Title given for small girls but given for small boys as Master.\n> * This is why the range and mean of Miss is large. \n",
      "outputs": [],
      "execution_count": null
    },
    {
      "metadata": {
        "_execution_state": "idle",
        "_uuid": "2cdf9116572de216b43c335637f0d84ab5ec16c6",
        "_cell_guid": "07b8aa8c-1a86-43df-afc6-b5e506c160b2",
        "trusted": true
      },
      "cell_type": "code",
      "source": "combined.loc[(combined['Title']=='Miss') & (combined['Age']<=14.0),'Title'] = 'Girl'\ncombined['Title'].value_counts()",
      "execution_count": 1345,
      "outputs": [
        {
          "output_type": "execute_result",
          "data": {
            "text/plain": "Mr        782\nMiss      215\nMrs       202\nMaster     61\nGirl       49\nName: Title, dtype: int64"
          },
          "metadata": {},
          "execution_count": 1345
        }
      ]
    },
    {
      "metadata": {
        "_uuid": "db5cec3194f612861c2c2cdaba0896ba345d9125",
        "_cell_guid": "b6ddf587-4f97-4a26-9acb-80e52bd4131c"
      },
      "cell_type": "markdown",
      "source": "**Age Cleaning** - Fill missing **Age** values by taking the median  Age of its corresponding Title.",
      "outputs": [],
      "execution_count": null
    },
    {
      "metadata": {
        "_execution_state": "idle",
        "_uuid": "504134bb93a4932baab2bf8ddccdda210f24f2e8",
        "_cell_guid": "ec7d8123-05fb-4890-8785-2cc0da759837",
        "trusted": true
      },
      "cell_type": "code",
      "source": "combined['Age'] = combined['Age'].groupby(combined['Title']).apply(lambda x: x.fillna(x.median()))\ncombined['Age'].groupby(combined['Title']).median().plot(kind='bar',figsize=(15,5),title='Age vs Title')\nplt.xticks(rotation=0)\nplt.show()",
      "execution_count": 1346,
      "outputs": [
        {
          "output_type": "display_data",
          "data": {
            "text/plain": "<matplotlib.figure.Figure at 0x7f0450b63ba8>",
            "image/png": "[encoded data removed]"
          },
          "metadata": {},
          "transient": {}
        }
      ]
    },
    {
      "metadata": {
        "_uuid": "5d0683618066001bcb078cacb0c2ca68cca4a0f1",
        "_cell_guid": "7e3b837d-bfb4-49df-9cb8-c2a4da56f3f8"
      },
      "cell_type": "markdown",
      "source": "**Sex mapping**",
      "outputs": [],
      "execution_count": null
    },
    {
      "metadata": {
        "_execution_state": "idle",
        "_uuid": "cf299ab930fae915dc8a55360c0b978a5778aedd",
        "_cell_guid": "59bd1d49-bc3c-4856-b29c-24a8ce18533f",
        "collapsed": true,
        "trusted": true
      },
      "cell_type": "code",
      "source": "sex_mapping = {'male':1,'female':0}\ncombined['Sex'] = combined['Sex'].map(sex_mapping)",
      "execution_count": 1347,
      "outputs": []
    },
    {
      "metadata": {
        "_uuid": "4582b790cc5e19c3def53a87085172184da065b9",
        "_cell_guid": "9a184c64-209b-4b52-bcbc-bbf0d8d08fe6"
      },
      "cell_type": "markdown",
      "source": "**Age_grp** & **Fare_grp**\n> Grouping the Age & Fare_per_person in 5 bands (**Age_grp** & **Fare_grp**). Creating them in categorical variable instead of continuous variable.\n> * And splitting Fare in quintiles.",
      "outputs": [],
      "execution_count": null
    },
    {
      "metadata": {
        "_execution_state": "idle",
        "_uuid": "b91326af3a8ea44f75dc35c14d051359ca090f41",
        "_cell_guid": "dd7d97bc-8184-475c-b4f8-e96d079d58c1",
        "collapsed": true,
        "trusted": true
      },
      "cell_type": "code",
      "source": "combined['Age_grp'] = pd.cut(combined['Age'],5,labels=[1,2,3,4,5])\ncombined['Fare_grp'] = pd.qcut(combined['Fare_per_person'],5,labels=[1,2,3,4,5])",
      "execution_count": 1348,
      "outputs": []
    },
    {
      "metadata": {
        "_uuid": "335c16a982f96476500c3b17f9029e470e8e566d",
        "_cell_guid": "e58b541d-ddff-4450-a88b-c283f6474398"
      },
      "cell_type": "markdown",
      "source": "**Family**\n> Creating **Family** feature which equals to the sum of SibSp and Parch i.e, the completly.",
      "outputs": [],
      "execution_count": null
    },
    {
      "metadata": {
        "_execution_state": "idle",
        "_uuid": "c8985d2071c3fe6d2113aebe47cc616cb1444c38",
        "_cell_guid": "7707fd3c-354c-4569-b400-dc325fa9b85a",
        "collapsed": true,
        "trusted": true
      },
      "cell_type": "code",
      "source": "combined['Family'] = combined['SibSp'] + combined['Parch'] + 1",
      "execution_count": 1349,
      "outputs": []
    },
    {
      "metadata": {
        "_uuid": "ff459bb17e66aa7f5df4e4ad910df00c7ac73604",
        "_cell_guid": "a2c3aba0-e541-4091-8336-5a6bcd73c8c7"
      },
      "cell_type": "markdown",
      "source": "**IsAlone**\n> Crearting **IsAlone** feature representing the person is alone or accompanied with family.",
      "outputs": [],
      "execution_count": null
    },
    {
      "metadata": {
        "_execution_state": "idle",
        "_uuid": "592a9676505fefdd47b6829530668bfec2e3c660",
        "_cell_guid": "5e2dabcc-4644-42a9-bdb2-7a89c9f10d2c",
        "collapsed": true,
        "trusted": true
      },
      "cell_type": "code",
      "source": "combined['IsAlone'] = combined['Family'].apply(lambda x: 1 if(x==1) else 0)",
      "execution_count": 1350,
      "outputs": []
    },
    {
      "metadata": {
        "trusted": true,
        "_uuid": "e07fe8fdda297be008243a07b31bbcaf72ddb709"
      },
      "cell_type": "code",
      "source": "combined[combined['Survived'].notnull()].groupby(['Title','Pclass','IsAlone'])['Survived'].agg([('TPA_mean','mean')]).sort_values('TPA_mean',ascending=False)",
      "execution_count": null,
      "outputs": []
    },
    {
      "metadata": {
        "trusted": true,
        "_uuid": "252f557712065d2b4988f37c247cbca23f868ff1"
      },
      "cell_type": "code",
      "source": "TPA_df = pd.DataFrame({'TPA_mean' : combined[combined['Survived'].notnull()].groupby(['Title','Pclass','IsAlone'])['Survived'].mean()}).reset_index()\nTPA_df['TPA_range'] = pd.cut(TPA_df['TPA_mean'],10,labels=[10,9,8,7,6,5,4,3,2,1]).astype(int)\nTPA_df.drop(labels='TPA_mean',axis=1,inplace=True)\nTPA_df.dtypes",
      "execution_count": null,
      "outputs": []
    },
    {
      "metadata": {
        "trusted": true,
        "_uuid": "b454f8d219b33c62cf691713eed3f329d0e1059e"
      },
      "cell_type": "code",
      "source": "combined = combined.merge(TPA_df, left_on=['Title','Pclass','IsAlone'], right_on=['Title','Pclass','IsAlone'], how='left')\ncombined['TPA_range'] = combined['TPA_range'].groupby(combined['Title']).apply(lambda x: x.fillna(x.mode()[0])).astype(int)",
      "execution_count": null,
      "outputs": []
    },
    {
      "metadata": {
        "_uuid": "15b4e92b31275764a3fd8e2c9cca7c2f595b9525",
        "_cell_guid": "89177dc2-1710-4dbb-af45-ed808d1cf93f"
      },
      "cell_type": "markdown",
      "source": "1. We are not going use **Ticket & Name** as it has object datatype. And also not using **PassengerId** as it seems as a sequence number.\n1. Also creating dummy columns to convert categorical varibles into numerical variables.",
      "outputs": [],
      "execution_count": null
    },
    {
      "metadata": {
        "_execution_state": "idle",
        "_uuid": "b2fec949d8b2d0d92488562a8c76ea54ec91604a",
        "_cell_guid": "43f3550f-fa45-4cbf-970b-566b58092cfc",
        "trusted": true
      },
      "cell_type": "code",
      "source": "dummy_features=['Age','Age_grp','Fare_grp','Fare_per_person',\n                'Cabin_survived','Survived',\n                'Embarked','Pclass','Sex','Title',\n                'Parch','SibSp','Family','IsAlone','TPA_range']\ncombined_wo_dummies = combined[dummy_features]\ncombined = pd.get_dummies(combined[dummy_features])\ntrain_features=combined.iloc[:891,:]\ntrain_labels=train_features.pop('Survived').astype(int)\ntest_features=combined.iloc[891:,:].drop('Survived',axis=1)",
      "execution_count": 1354,
      "outputs": []
    },
    {
      "metadata": {
        "_execution_state": "idle",
        "_uuid": "2139b44e411b659815b9824c18a2feb61d620781",
        "_cell_guid": "c1e3d818-0a19-4a4a-8e86-04429cd84441",
        "trusted": true
      },
      "cell_type": "code",
      "source": "train_features.dtypes",
      "execution_count": 1355,
      "outputs": [
        {
          "output_type": "execute_result",
          "data": {
            "text/plain": "Age                float64\nFare_per_person    float64\nCabin_survived       int64\nPclass               int64\nSex                  int64\nParch                int64\nSibSp                int64\nFamily               int64\nIsAlone              int64\nTPA_range            int64\nAge_grp_1            uint8\nAge_grp_2            uint8\nAge_grp_3            uint8\nAge_grp_4            uint8\nAge_grp_5            uint8\nFare_grp_1           uint8\nFare_grp_2           uint8\nFare_grp_3           uint8\nFare_grp_4           uint8\nFare_grp_5           uint8\nEmbarked_C           uint8\nEmbarked_Q           uint8\nEmbarked_S           uint8\nTitle_Girl           uint8\nTitle_Master         uint8\nTitle_Miss           uint8\nTitle_Mr             uint8\nTitle_Mrs            uint8\ndtype: object"
          },
          "metadata": {},
          "execution_count": 1355
        }
      ]
    },
    {
      "metadata": {
        "_execution_state": "idle",
        "_uuid": "3046b3e87aeff49246a9291fb9a7b110984d16bb",
        "_cell_guid": "a117718a-c1ec-4144-b296-e52c16c88325",
        "trusted": true
      },
      "cell_type": "code",
      "source": "train_labels.head()",
      "execution_count": 1356,
      "outputs": [
        {
          "output_type": "execute_result",
          "data": {
            "text/plain": "0    0\n1    1\n2    1\n3    1\n4    0\nName: Survived, dtype: int64"
          },
          "metadata": {},
          "execution_count": 1356
        }
      ]
    },
    {
      "metadata": {
        "_execution_state": "idle",
        "_uuid": "24746d37086605e152beae741a4d56053dcd6a7a",
        "_cell_guid": "bedf5b3d-3cf3-42bb-8e4d-5db390ec8995",
        "trusted": true
      },
      "cell_type": "code",
      "source": "test_features.head()",
      "execution_count": 1357,
      "outputs": [
        {
          "output_type": "execute_result",
          "data": {
            "text/plain": "      Age  Fare_per_person  Cabin_survived  Pclass  Sex  Parch  SibSp  Family  \\\n891  34.5          7.82920               0       3    1      0      0       1   \n892  47.0          7.00000               0       3    0      0      1       2   \n893  62.0          9.68750               0       2    1      0      0       1   \n894  27.0          8.66250               0       3    1      0      0       1   \n895  22.0          6.14375               0       3    0      1      1       3   \n\n     IsAlone  TPA_range  Age_grp_1  Age_grp_2  Age_grp_3  Age_grp_4  \\\n891        1         19          0          0          1          0   \n892        0         12          0          0          1          0   \n893        1         19          0          0          0          1   \n894        1         19          0          1          0          0   \n895        0         12          0          1          0          0   \n\n     Age_grp_5  Fare_grp_1  Fare_grp_2  Fare_grp_3  Fare_grp_4  Fare_grp_5  \\\n891          0           0           1           0           0           0   \n892          0           1           0           0           0           0   \n893          0           0           0           1           0           0   \n894          0           0           0           1           0           0   \n895          0           1           0           0           0           0   \n\n     Embarked_C  Embarked_Q  Embarked_S  Title_Girl  Title_Master  Title_Miss  \\\n891           0           1           0           0             0           0   \n892           0           0           1           0             0           0   \n893           0           1           0           0             0           0   \n894           0           0           1           0             0           0   \n895           0           0           1           0             0           0   \n\n     Title_Mr  Title_Mrs  \n891         1          0  \n892         0          1  \n893         1          0  \n894         1          0  \n895         0          1  ",
            "text/html": "<div>\n<style>\n    .dataframe thead tr:only-child th {\n        text-align: right;\n    }\n\n    .dataframe thead th {\n        text-align: left;\n    }\n\n    .dataframe tbody tr th {\n        vertical-align: top;\n    }\n</style>\n<table border=\"1\" class=\"dataframe\">\n  <thead>\n    <tr style=\"text-align: right;\">\n      <th></th>\n      <th>Age</th>\n      <th>Fare_per_person</th>\n      <th>Cabin_survived</th>\n      <th>Pclass</th>\n      <th>Sex</th>\n      <th>Parch</th>\n      <th>SibSp</th>\n      <th>Family</th>\n      <th>IsAlone</th>\n      <th>TPA_range</th>\n      <th>Age_grp_1</th>\n      <th>Age_grp_2</th>\n      <th>Age_grp_3</th>\n      <th>Age_grp_4</th>\n      <th>Age_grp_5</th>\n      <th>Fare_grp_1</th>\n      <th>Fare_grp_2</th>\n      <th>Fare_grp_3</th>\n      <th>Fare_grp_4</th>\n      <th>Fare_grp_5</th>\n      <th>Embarked_C</th>\n      <th>Embarked_Q</th>\n      <th>Embarked_S</th>\n      <th>Title_Girl</th>\n      <th>Title_Master</th>\n      <th>Title_Miss</th>\n      <th>Title_Mr</th>\n      <th>Title_Mrs</th>\n    </tr>\n  </thead>\n  <tbody>\n    <tr>\n      <th>891</th>\n      <td>34.5</td>\n      <td>7.82920</td>\n      <td>0</td>\n      <td>3</td>\n      <td>1</td>\n      <td>0</td>\n      <td>0</td>\n      <td>1</td>\n      <td>1</td>\n      <td>19</td>\n      <td>0</td>\n      <td>0</td>\n      <td>1</td>\n      <td>0</td>\n      <td>0</td>\n      <td>0</td>\n      <td>1</td>\n      <td>0</td>\n      <td>0</td>\n      <td>0</td>\n      <td>0</td>\n      <td>1</td>\n      <td>0</td>\n      <td>0</td>\n      <td>0</td>\n      <td>0</td>\n      <td>1</td>\n      <td>0</td>\n    </tr>\n    <tr>\n      <th>892</th>\n      <td>47.0</td>\n      <td>7.00000</td>\n      <td>0</td>\n      <td>3</td>\n      <td>0</td>\n      <td>0</td>\n      <td>1</td>\n      <td>2</td>\n      <td>0</td>\n      <td>12</td>\n      <td>0</td>\n      <td>0</td>\n      <td>1</td>\n      <td>0</td>\n      <td>0</td>\n      <td>1</td>\n      <td>0</td>\n      <td>0</td>\n      <td>0</td>\n      <td>0</td>\n      <td>0</td>\n      <td>0</td>\n      <td>1</td>\n      <td>0</td>\n      <td>0</td>\n      <td>0</td>\n      <td>0</td>\n      <td>1</td>\n    </tr>\n    <tr>\n      <th>893</th>\n      <td>62.0</td>\n      <td>9.68750</td>\n      <td>0</td>\n      <td>2</td>\n      <td>1</td>\n      <td>0</td>\n      <td>0</td>\n      <td>1</td>\n      <td>1</td>\n      <td>19</td>\n      <td>0</td>\n      <td>0</td>\n      <td>0</td>\n      <td>1</td>\n      <td>0</td>\n      <td>0</td>\n      <td>0</td>\n      <td>1</td>\n      <td>0</td>\n      <td>0</td>\n      <td>0</td>\n      <td>1</td>\n      <td>0</td>\n      <td>0</td>\n      <td>0</td>\n      <td>0</td>\n      <td>1</td>\n      <td>0</td>\n    </tr>\n    <tr>\n      <th>894</th>\n      <td>27.0</td>\n      <td>8.66250</td>\n      <td>0</td>\n      <td>3</td>\n      <td>1</td>\n      <td>0</td>\n      <td>0</td>\n      <td>1</td>\n      <td>1</td>\n      <td>19</td>\n      <td>0</td>\n      <td>1</td>\n      <td>0</td>\n      <td>0</td>\n      <td>0</td>\n      <td>0</td>\n      <td>0</td>\n      <td>1</td>\n      <td>0</td>\n      <td>0</td>\n      <td>0</td>\n      <td>0</td>\n      <td>1</td>\n      <td>0</td>\n      <td>0</td>\n      <td>0</td>\n      <td>1</td>\n      <td>0</td>\n    </tr>\n    <tr>\n      <th>895</th>\n      <td>22.0</td>\n      <td>6.14375</td>\n      <td>0</td>\n      <td>3</td>\n      <td>0</td>\n      <td>1</td>\n      <td>1</td>\n      <td>3</td>\n      <td>0</td>\n      <td>12</td>\n      <td>0</td>\n      <td>1</td>\n      <td>0</td>\n      <td>0</td>\n      <td>0</td>\n      <td>1</td>\n      <td>0</td>\n      <td>0</td>\n      <td>0</td>\n      <td>0</td>\n      <td>0</td>\n      <td>0</td>\n      <td>1</td>\n      <td>0</td>\n      <td>0</td>\n      <td>0</td>\n      <td>0</td>\n      <td>1</td>\n    </tr>\n  </tbody>\n</table>\n</div>"
          },
          "metadata": {},
          "execution_count": 1357
        }
      ]
    },
    {
      "metadata": {
        "_uuid": "89ae56d582c28088fd363d418c0940c43d96f90a",
        "_cell_guid": "00c62aa3-4439-4ac2-8368-f0b4230928c1"
      },
      "cell_type": "markdown",
      "source": "**3. Basic Modelling**\n> We choose 8 models and use 5-fold cross validationsto evaluate these models.\n* k-Nearest Neighbors\n* Logistic Regression\n* Naive Bayes classifier\n* Support Vector Machine\n* Decision Tree\n* Random Forest\n* Gradient Boosting Decision Tree\n* Adaboost\n",
      "outputs": [],
      "execution_count": null
    },
    {
      "metadata": {
        "_execution_state": "idle",
        "_uuid": "e926c78af58db1a6672b3587fa81322ec9b491bc",
        "_cell_guid": "fb2cb90f-aa21-4e85-84ea-7cf1a8639b9c",
        "collapsed": true,
        "trusted": true
      },
      "cell_type": "code",
      "source": "from sklearn.model_selection import cross_val_score",
      "execution_count": 1358,
      "outputs": []
    },
    {
      "metadata": {
        "_execution_state": "idle",
        "_uuid": "c35cec962ecc2aeac443bec4424e0f9e4a572210",
        "_cell_guid": "ae3882ff-e783-4ebd-a21a-3062d2f66448",
        "collapsed": true,
        "trusted": true
      },
      "cell_type": "code",
      "source": "from sklearn.neighbors import KNeighborsClassifier\nfrom sklearn.linear_model import LogisticRegression\nfrom sklearn.naive_bayes import GaussianNB\nfrom sklearn.svm import SVC\nfrom sklearn.tree import DecisionTreeClassifier\nfrom sklearn.ensemble import RandomForestClassifier\nfrom sklearn.ensemble import GradientBoostingClassifier\nfrom sklearn.ensemble import AdaBoostClassifier",
      "execution_count": 1359,
      "outputs": []
    },
    {
      "metadata": {
        "_execution_state": "idle",
        "_uuid": "73161f43abf6edcac7346149caa5dd8790838dfb",
        "_cell_guid": "4b3d8d8f-e5b7-4704-9009-5fa97a388042",
        "trusted": true
      },
      "cell_type": "code",
      "source": "models=[KNeighborsClassifier(),LogisticRegression(),GaussianNB(),SVC(),DecisionTreeClassifier(),\n        RandomForestClassifier(),GradientBoostingClassifier(),AdaBoostClassifier()]\nnames=['KNN','LR','NB','SVM','Tree','RF','GB','Ada']\nfor name,model in zip(names,models):\n    score=cross_val_score(model,train_features,train_labels,cv=5)\n    print('{} :: {} , {}'.format(name,score.mean(),score))",
      "execution_count": 1360,
      "outputs": [
        {
          "output_type": "stream",
          "name": "stdout",
          "text": "KNN :: 0.8441013452434529 , [ 0.82681564  0.81564246  0.84831461  0.83707865  0.89265537]\nLR :: 0.8238888965726844 , [ 0.80446927  0.80446927  0.82022472  0.82022472  0.8700565 ]\nNB :: 0.7857680385078731 , [ 0.75418994  0.76536313  0.79213483  0.76404494  0.85310734]\n"
        },
        {
          "output_type": "stream",
          "name": "stdout",
          "text": "SVM :: 0.8351124393438228 , [ 0.81564246  0.81564246  0.84831461  0.81460674  0.88135593]\nTree :: 0.7980642509522882 , [ 0.73743017  0.79329609  0.83707865  0.81460674  0.8079096 ]\nRF :: 0.8260667561060462 , [ 0.83240223  0.81564246  0.84269663  0.79213483  0.84745763]\n"
        },
        {
          "output_type": "stream",
          "name": "stdout",
          "text": "GB :: 0.8452060386121362 , [ 0.83798883  0.81564246  0.85393258  0.83146067  0.88700565]\n"
        },
        {
          "output_type": "stream",
          "name": "stdout",
          "text": "Ada :: 0.8227211487959906 , [ 0.81005587  0.82122905  0.8258427   0.80337079  0.85310734]\n"
        }
      ]
    },
    {
      "metadata": {
        "_uuid": "b9812ebb84b639d364bfa1e876691e609fe81283",
        "_cell_guid": "117b2b67-c991-4b56-be4f-6362480ea307"
      },
      "cell_type": "markdown",
      "source": "As some algorithms such as KNN & SVM are sensitive to the **scaling** of the data, here we also apply standard-scaling to the data. ",
      "outputs": [],
      "execution_count": null
    },
    {
      "metadata": {
        "_execution_state": "idle",
        "_uuid": "c7ef32ca7483adc377b123d5306e884352e9f759",
        "_cell_guid": "c891e485-3a65-4193-83cc-4154ba953e78",
        "trusted": true
      },
      "cell_type": "code",
      "source": "from sklearn.preprocessing import StandardScaler\nscaler=StandardScaler()\ntrain_features_scaled=scaler.fit(train_features).transform(train_features)\ntest_features_scaled=scaler.fit(test_features).transform(test_features)\nfor name,model in zip(names,models):\n    score=cross_val_score(model,train_features_scaled,train_labels,cv=5)\n    print('{} :: {} , {}'.format(name,score.mean(),score))",
      "execution_count": 1361,
      "outputs": [
        {
          "output_type": "stream",
          "name": "stdout",
          "text": "KNN :: 0.8171345566172196 , [ 0.80446927  0.79888268  0.81460674  0.81460674  0.85310734]\nLR :: 0.821660607698383 , [ 0.79888268  0.79888268  0.81460674  0.82022472  0.87570621]\nNB :: 0.7655433194067497 , [ 0.75418994  0.76536313  0.79213483  0.66292135  0.85310734]\n"
        },
        {
          "output_type": "stream",
          "name": "stdout",
          "text": "SVM :: 0.8395566048073844 , [ 0.84357542  0.83240223  0.83146067  0.80898876  0.88135593]\nTree :: 0.8047681615668134 , [ 0.77653631  0.7877095   0.83146067  0.82022472  0.8079096 ]\n"
        },
        {
          "output_type": "stream",
          "name": "stdout",
          "text": "RF :: 0.8081392317930398 , [ 0.7877095   0.79888268  0.84269663  0.78089888  0.83050847]\n"
        },
        {
          "output_type": "stream",
          "name": "stdout",
          "text": "GB :: 0.8452060386121362 , [ 0.83798883  0.81564246  0.85393258  0.83146067  0.88700565]\n"
        },
        {
          "output_type": "stream",
          "name": "stdout",
          "text": "Ada :: 0.8215975532903727 , [ 0.81005587  0.82122905  0.8258427   0.79775281  0.85310734]\n"
        }
      ]
    },
    {
      "metadata": {
        "_uuid": "2003b97897fb201dab55337d217285197759c0ba",
        "_cell_guid": "6f4294f2-3922-41a0-a154-5dc8efe60cab"
      },
      "cell_type": "markdown",
      "source": "* We can see improvement in the scores of KNN & SVM. \n*  And also **GradientBoostingClassifier** having higher score compared to other models.\n* Ignoring naive bayes GaussianNB resulting least score.\n",
      "outputs": [],
      "execution_count": null
    },
    {
      "metadata": {
        "_uuid": "4e0022adb1307d27a46496ed9de6eb634da2fecc",
        "_cell_guid": "05a045af-52d4-456e-8c08-2d0856989dbb"
      },
      "cell_type": "markdown",
      "source": "As seen from above results, GradientBoostingClassifier shows high score. Let us observe the **feature importance** of training dataset.",
      "outputs": [],
      "execution_count": null
    },
    {
      "metadata": {
        "_execution_state": "idle",
        "_uuid": "9212963df5195c6838c31be775698d9898076899",
        "_cell_guid": "642151da-9a3b-400e-b7fa-421ac6faa5f2",
        "trusted": true
      },
      "cell_type": "code",
      "source": "GB_imp=GradientBoostingClassifier()\nGB_imp.fit(train_features,train_labels)\nfeatures_imp = pd.DataFrame({'importance':GB_imp.feature_importances_},index=train_features.columns).sort_values('importance',ascending=True)\nfeatures_imp.plot(kind='barh',figsize=(15,10))",
      "execution_count": 1362,
      "outputs": [
        {
          "output_type": "execute_result",
          "data": {
            "text/plain": "<matplotlib.axes._subplots.AxesSubplot at 0x7f044f8facf8>"
          },
          "metadata": {},
          "execution_count": 1362
        },
        {
          "output_type": "display_data",
          "data": {
            "text/plain": "<matplotlib.figure.Figure at 0x7f044fe65f98>",
            "image/png": "[encoded data removed]"
          },
          "metadata": {},
          "transient": {}
        }
      ]
    },
    {
      "metadata": {
        "_uuid": "86eaa08a5daa02a829c6b6fc4f9eea34b1f8fec3",
        "_cell_guid": "feb0cbe1-7349-40ab-b9b7-6eec142dcd68"
      },
      "cell_type": "markdown",
      "source": "* Now to increase the overall accuracy, we should minimize the misclassified observations by finding the pattern between them and generate the new feature.",
      "outputs": [],
      "execution_count": null
    },
    {
      "metadata": {
        "_execution_state": "idle",
        "_uuid": "63ccfd442e591674ad49afe4041dd3ded7a50d33",
        "_cell_guid": "8e2552ca-a701-4348-a8c5-6dfff32f4ad8",
        "trusted": true
      },
      "cell_type": "code",
      "source": "misclassified=[]\nfrom sklearn.model_selection import KFold\nkf = KFold(n_splits=10,random_state=42)\nfor train_index,test_index in kf.split(train_features):\n    kf_x_train = train_features.loc[train_index]\n    kf_y_train = train_labels[train_index]\n    kf_x_test = train_features.loc[test_index]\n    pred = GB_imp.fit(kf_x_train,kf_y_train).predict(kf_x_test)\n    misclassified.append(train_labels[test_index][pred != train_labels[test_index]].index)\nmisclassified_index = np.concatenate(misclassified)\nmisclassified_index",
      "execution_count": 1363,
      "outputs": [
        {
          "output_type": "execute_result",
          "data": {
            "text/plain": "array([  2,  14,  17,  18,  21,  23,  25,  30,  36,  41,  49,  55,  64,\n        68,  74,  79,  81,  92,  97, 107, 109, 114, 118, 127, 137, 140,\n       146, 165, 177, 186, 187, 192, 199, 204, 205, 207, 209, 220, 224,\n       226, 233, 235, 241, 245, 246, 248, 251, 261, 264, 267, 271, 273,\n       279, 283, 286, 288, 297, 301, 312, 315, 328, 330, 336, 338, 347,\n       357, 391, 396, 400, 414, 415, 423, 429, 430, 444, 447, 449, 452,\n       453, 455, 460, 479, 484, 498, 501, 502, 505, 507, 509, 510, 533,\n       543, 547, 550, 553, 559, 564, 569, 570, 578, 579, 587, 593, 599,\n       604, 617, 622, 630, 643, 645, 647, 654, 657, 660, 664, 673, 677,\n       680, 681, 692, 711, 712, 741, 744, 748, 762, 767, 772, 782, 804,\n       807, 816, 821, 828, 838, 839, 852, 854, 855, 857])"
          },
          "metadata": {},
          "execution_count": 1363
        }
      ]
    },
    {
      "metadata": {
        "_execution_state": "idle",
        "_uuid": "0b7ddaea2ffc4e30dc048b5baa3098baf034ef07",
        "_cell_guid": "c20398f0-1625-4792-af14-fc379f26ee7a",
        "trusted": true
      },
      "cell_type": "code",
      "source": "len(misclassified_index)",
      "execution_count": 1364,
      "outputs": [
        {
          "output_type": "execute_result",
          "data": {
            "text/plain": "140"
          },
          "metadata": {},
          "execution_count": 1364
        }
      ]
    },
    {
      "metadata": {
        "_execution_state": "idle",
        "_uuid": "d52cc345bb2387328ce607533707cdbb7744005f",
        "_cell_guid": "ab283896-dd35-4d99-9fc7-f70405762bee",
        "trusted": true
      },
      "cell_type": "code",
      "source": "misclassified_df = combined_wo_dummies.loc[misclassified_index]\nmisclassified_df.head()",
      "execution_count": 1365,
      "outputs": [
        {
          "output_type": "execute_result",
          "data": {
            "text/plain": "     Age Age_grp Fare_grp  Fare_per_person  Cabin_survived  Survived Embarked  \\\n2   26.0       2        3           7.9250               0       1.0        S   \n14  14.0       1        2           7.8542               0       0.0        S   \n17  30.0       2        4          13.0000               0       1.0        S   \n18  31.0       2        3           9.0000               0       0.0        S   \n21  34.0       3        4          13.0000               1       1.0        S   \n\n    Pclass  Sex Title  Parch  SibSp  Family  IsAlone  TPA_range  \n2        3    0  Miss      0      0       1        1          9  \n14       3    0  Girl      0      0       1        1          7  \n17       2    1    Mr      0      0       1        1         19  \n18       3    0   Mrs      0      1       2        0         12  \n21       2    1    Mr      0      0       1        1         19  ",
            "text/html": "<div>\n<style>\n    .dataframe thead tr:only-child th {\n        text-align: right;\n    }\n\n    .dataframe thead th {\n        text-align: left;\n    }\n\n    .dataframe tbody tr th {\n        vertical-align: top;\n    }\n</style>\n<table border=\"1\" class=\"dataframe\">\n  <thead>\n    <tr style=\"text-align: right;\">\n      <th></th>\n      <th>Age</th>\n      <th>Age_grp</th>\n      <th>Fare_grp</th>\n      <th>Fare_per_person</th>\n      <th>Cabin_survived</th>\n      <th>Survived</th>\n      <th>Embarked</th>\n      <th>Pclass</th>\n      <th>Sex</th>\n      <th>Title</th>\n      <th>Parch</th>\n      <th>SibSp</th>\n      <th>Family</th>\n      <th>IsAlone</th>\n      <th>TPA_range</th>\n    </tr>\n  </thead>\n  <tbody>\n    <tr>\n      <th>2</th>\n      <td>26.0</td>\n      <td>2</td>\n      <td>3</td>\n      <td>7.9250</td>\n      <td>0</td>\n      <td>1.0</td>\n      <td>S</td>\n      <td>3</td>\n      <td>0</td>\n      <td>Miss</td>\n      <td>0</td>\n      <td>0</td>\n      <td>1</td>\n      <td>1</td>\n      <td>9</td>\n    </tr>\n    <tr>\n      <th>14</th>\n      <td>14.0</td>\n      <td>1</td>\n      <td>2</td>\n      <td>7.8542</td>\n      <td>0</td>\n      <td>0.0</td>\n      <td>S</td>\n      <td>3</td>\n      <td>0</td>\n      <td>Girl</td>\n      <td>0</td>\n      <td>0</td>\n      <td>1</td>\n      <td>1</td>\n      <td>7</td>\n    </tr>\n    <tr>\n      <th>17</th>\n      <td>30.0</td>\n      <td>2</td>\n      <td>4</td>\n      <td>13.0000</td>\n      <td>0</td>\n      <td>1.0</td>\n      <td>S</td>\n      <td>2</td>\n      <td>1</td>\n      <td>Mr</td>\n      <td>0</td>\n      <td>0</td>\n      <td>1</td>\n      <td>1</td>\n      <td>19</td>\n    </tr>\n    <tr>\n      <th>18</th>\n      <td>31.0</td>\n      <td>2</td>\n      <td>3</td>\n      <td>9.0000</td>\n      <td>0</td>\n      <td>0.0</td>\n      <td>S</td>\n      <td>3</td>\n      <td>0</td>\n      <td>Mrs</td>\n      <td>0</td>\n      <td>1</td>\n      <td>2</td>\n      <td>0</td>\n      <td>12</td>\n    </tr>\n    <tr>\n      <th>21</th>\n      <td>34.0</td>\n      <td>3</td>\n      <td>4</td>\n      <td>13.0000</td>\n      <td>1</td>\n      <td>1.0</td>\n      <td>S</td>\n      <td>2</td>\n      <td>1</td>\n      <td>Mr</td>\n      <td>0</td>\n      <td>0</td>\n      <td>1</td>\n      <td>1</td>\n      <td>19</td>\n    </tr>\n  </tbody>\n</table>\n</div>"
          },
          "metadata": {},
          "execution_count": 1365
        }
      ]
    },
    {
      "metadata": {
        "_uuid": "62472e00ac3b0c5987e2be22d062636dc095fca6",
        "_cell_guid": "d13050b6-16a7-444c-8b3a-b9704527a609"
      },
      "cell_type": "markdown",
      "source": "* From the feature importance diagram, we can see that\n> * **Fare_per_person** & **Age** are important, because as they have float datatype we cannot use them for groupby.\n> * **Title**, **Pclass** & **Family** are next important feature which can be used for groupby.\n> *  As Family have high range of numbers compared to **IsAlone** which is derived from Family itself. \n* We are interested in count  and also the mean of Survived \n> * Count - number of occurance of misclassified group.\n> * Mean - which will give us idea about (mean>0.5 : Alive) and (mean<0.5 : Dead)",
      "outputs": [],
      "execution_count": null
    },
    {
      "metadata": {
        "_execution_state": "idle",
        "_uuid": "0078328728cc41f990229dcf139dbd5c17bdf4c4",
        "_cell_guid": "2b3e0a73-06e8-4f54-af77-12368704bb35",
        "trusted": true
      },
      "cell_type": "code",
      "source": "misclassified_df.groupby(['Title','Pclass','IsAlone'])['Survived'].agg(['mean','count'])",
      "execution_count": 1366,
      "outputs": [
        {
          "output_type": "execute_result",
          "data": {
            "text/plain": "                           mean  count\nTitle  Pclass IsAlone                 \nGirl   1      0        0.000000      1\n       3      0        0.500000      4\n              1        0.000000      1\nMaster 3      0        1.000000      2\nMiss   1      1        0.000000      1\n       2      1        0.000000      2\n       3      0        0.833333      6\n              1        0.235294     17\nMr     1      0        0.550000     20\n              1        0.750000     20\n       2      0        1.000000      1\n              1        1.000000      7\n       3      0        1.000000      4\n              1        1.000000     32\nMrs    1      0        0.000000      1\n       2      0        0.000000      3\n              1        0.000000      1\n       3      0        0.500000     16\n              1        0.000000      1",
            "text/html": "<div>\n<style>\n    .dataframe thead tr:only-child th {\n        text-align: right;\n    }\n\n    .dataframe thead th {\n        text-align: left;\n    }\n\n    .dataframe tbody tr th {\n        vertical-align: top;\n    }\n</style>\n<table border=\"1\" class=\"dataframe\">\n  <thead>\n    <tr style=\"text-align: right;\">\n      <th></th>\n      <th></th>\n      <th></th>\n      <th>mean</th>\n      <th>count</th>\n    </tr>\n    <tr>\n      <th>Title</th>\n      <th>Pclass</th>\n      <th>IsAlone</th>\n      <th></th>\n      <th></th>\n    </tr>\n  </thead>\n  <tbody>\n    <tr>\n      <th rowspan=\"3\" valign=\"top\">Girl</th>\n      <th>1</th>\n      <th>0</th>\n      <td>0.000000</td>\n      <td>1</td>\n    </tr>\n    <tr>\n      <th rowspan=\"2\" valign=\"top\">3</th>\n      <th>0</th>\n      <td>0.500000</td>\n      <td>4</td>\n    </tr>\n    <tr>\n      <th>1</th>\n      <td>0.000000</td>\n      <td>1</td>\n    </tr>\n    <tr>\n      <th>Master</th>\n      <th>3</th>\n      <th>0</th>\n      <td>1.000000</td>\n      <td>2</td>\n    </tr>\n    <tr>\n      <th rowspan=\"4\" valign=\"top\">Miss</th>\n      <th>1</th>\n      <th>1</th>\n      <td>0.000000</td>\n      <td>1</td>\n    </tr>\n    <tr>\n      <th>2</th>\n      <th>1</th>\n      <td>0.000000</td>\n      <td>2</td>\n    </tr>\n    <tr>\n      <th rowspan=\"2\" valign=\"top\">3</th>\n      <th>0</th>\n      <td>0.833333</td>\n      <td>6</td>\n    </tr>\n    <tr>\n      <th>1</th>\n      <td>0.235294</td>\n      <td>17</td>\n    </tr>\n    <tr>\n      <th rowspan=\"6\" valign=\"top\">Mr</th>\n      <th rowspan=\"2\" valign=\"top\">1</th>\n      <th>0</th>\n      <td>0.550000</td>\n      <td>20</td>\n    </tr>\n    <tr>\n      <th>1</th>\n      <td>0.750000</td>\n      <td>20</td>\n    </tr>\n    <tr>\n      <th rowspan=\"2\" valign=\"top\">2</th>\n      <th>0</th>\n      <td>1.000000</td>\n      <td>1</td>\n    </tr>\n    <tr>\n      <th>1</th>\n      <td>1.000000</td>\n      <td>7</td>\n    </tr>\n    <tr>\n      <th rowspan=\"2\" valign=\"top\">3</th>\n      <th>0</th>\n      <td>1.000000</td>\n      <td>4</td>\n    </tr>\n    <tr>\n      <th>1</th>\n      <td>1.000000</td>\n      <td>32</td>\n    </tr>\n    <tr>\n      <th rowspan=\"5\" valign=\"top\">Mrs</th>\n      <th>1</th>\n      <th>0</th>\n      <td>0.000000</td>\n      <td>1</td>\n    </tr>\n    <tr>\n      <th rowspan=\"2\" valign=\"top\">2</th>\n      <th>0</th>\n      <td>0.000000</td>\n      <td>3</td>\n    </tr>\n    <tr>\n      <th>1</th>\n      <td>0.000000</td>\n      <td>1</td>\n    </tr>\n    <tr>\n      <th rowspan=\"2\" valign=\"top\">3</th>\n      <th>0</th>\n      <td>0.500000</td>\n      <td>16</td>\n    </tr>\n    <tr>\n      <th>1</th>\n      <td>0.000000</td>\n      <td>1</td>\n    </tr>\n  </tbody>\n</table>\n</div>"
          },
          "metadata": {},
          "execution_count": 1366
        }
      ]
    },
    {
      "metadata": {
        "_uuid": "39e245a83f93ab5356f735e3ce71faffb8ef9573",
        "_cell_guid": "a4bda0fc-c490-486f-ac7f-f547fbef3706"
      },
      "cell_type": "markdown",
      "source": "We can see that **Mr** of all Pclass (mean>0.5) have high probability of Survival, whereas **Miss** & **Mrs** of  all Pclass (mean<0.5) have low probability of Survival.",
      "outputs": [],
      "execution_count": null
    },
    {
      "metadata": {
        "_execution_state": "idle",
        "_uuid": "607e13ae696b625b4a66cd10ba642bc8174d1099",
        "_cell_guid": "d206b488-bdbc-4eb5-bf43-9920c66590d7",
        "trusted": true
      },
      "cell_type": "code",
      "source": "#combined.loc[(combined['Title_Mr']==1)&(combined['Pclass'].isin([2,3]))&(combined['IsAlone']==1),'TPA1']=1\n#combined.loc[(combined['Title_Mr']==1)&(combined['Pclass']==1)&(combined['IsAlone'].isin([0,1])),'TPA1']=2\n#combined.loc[(combined['Title_Miss']==1)&(combined['Pclass']==3)&(combined['IsAlone']==1),'TPA1']=3\n#combined.loc[(combined['Title_Mrs']==1)&(combined['Pclass']==3)&(combined['IsAlone']==0),'TPA1']=4\n#combined['TPA1'].fillna(0,inplace=True)",
      "execution_count": 1367,
      "outputs": []
    },
    {
      "metadata": {
        "_uuid": "108793a716e94e44ac188948e6432c1a3f0446c8",
        "_cell_guid": "e0ae97e6-8c10-4aac-89a7-921d0288e024"
      },
      "cell_type": "markdown",
      "source": "**3. Hyperparameter Tuning**",
      "outputs": [],
      "execution_count": null
    },
    {
      "metadata": {
        "trusted": true,
        "_uuid": "2f48506826acb996e9de0ba35a7d26c63325cf67"
      },
      "cell_type": "code",
      "source": "combined.dtypes",
      "execution_count": null,
      "outputs": []
    },
    {
      "metadata": {
        "_execution_state": "idle",
        "_uuid": "c1030eca2318f09d1ada3eb61ae59e633ce3c974",
        "_cell_guid": "d201811f-0bfd-490a-8012-1292e4fad87f",
        "trusted": true
      },
      "cell_type": "code",
      "source": "from sklearn.model_selection import GridSearchCV\n\ntrain_features=combined.iloc[:891,:]\ntrain_labels=train_features.pop('Survived').astype(int)\ntest_features=combined.iloc[891:,:].drop('Survived',axis=1)\n\nscaler=StandardScaler()\ntrain_features_scaled=scaler.fit(train_features).transform(train_features)\ntest_features_scaled=scaler.fit(test_features).transform(test_features)\n\nGB_imp=GradientBoostingClassifier()\nGB_imp.fit(train_features,train_labels)\nmisclassified=[]\nfrom sklearn.model_selection import KFold\nkf = KFold(n_splits=10,random_state=42)\nfor train_index,test_index in kf.split(train_features):\n    kf_x_train = train_features.loc[train_index]\n    kf_y_train = train_labels[train_index]\n    kf_x_test = train_features.loc[test_index]\n    pred = GB_imp.fit(kf_x_train,kf_y_train).predict(kf_x_test)\n    misclassified.append(train_labels[test_index][pred != train_labels[test_index]].index)\nmisclassified_index = np.concatenate(misclassified)\nmisclassified_index",
      "execution_count": 1369,
      "outputs": [
        {
          "output_type": "execute_result",
          "data": {
            "text/plain": "array([  2,  14,  17,  18,  21,  23,  25,  30,  36,  41,  49,  55,  64,\n        68,  74,  79,  81,  92,  97, 107, 109, 114, 118, 127, 137, 140,\n       146, 165, 177, 186, 187, 192, 199, 204, 205, 207, 209, 220, 224,\n       226, 233, 235, 241, 245, 246, 248, 251, 261, 264, 267, 271, 273,\n       279, 283, 286, 288, 297, 301, 312, 315, 328, 330, 336, 338, 347,\n       357, 391, 396, 400, 414, 415, 423, 429, 430, 444, 447, 449, 452,\n       453, 455, 460, 479, 484, 498, 501, 502, 505, 507, 509, 510, 533,\n       543, 547, 550, 553, 559, 564, 569, 570, 578, 579, 587, 593, 599,\n       604, 617, 622, 630, 643, 645, 647, 654, 657, 660, 664, 673, 677,\n       680, 681, 692, 711, 712, 741, 744, 748, 762, 767, 772, 782, 804,\n       807, 816, 821, 828, 838, 839, 852, 854, 855, 857])"
          },
          "metadata": {},
          "execution_count": 1369
        }
      ]
    },
    {
      "metadata": {
        "trusted": true,
        "_uuid": "83db760d6a1849774e4f3aa0b9d2b0e4339b52bd"
      },
      "cell_type": "code",
      "source": "len(misclassified_index)",
      "execution_count": null,
      "outputs": []
    },
    {
      "metadata": {
        "_uuid": "7f04583e975b2d215d91a47e98f17e53814eb54d",
        "_cell_guid": "cf79d67f-890f-405e-bf4b-f8f9abe31c8f"
      },
      "cell_type": "markdown",
      "source": "k-Nearest Neighbors",
      "outputs": [],
      "execution_count": null
    },
    {
      "metadata": {
        "_execution_state": "idle",
        "_uuid": "0f5b9437b9ce34c22419df87d351594ab32ffa67",
        "_cell_guid": "624d3c15-f154-4c46-94fb-9b4ece7f3e61",
        "trusted": true
      },
      "cell_type": "code",
      "source": "parameter_grid = {'n_neighbors':[4,5,6,7,8], 'algorithm':['auto','ball_tree','kd_tree','brute']}\nKNN = GridSearchC(KNeighborsClassifier(),parameter_grid,cv=5)\nKNN.fit(train_features_scaled,train_labels)\nprint('parameter_grid1 : ',KNN.best_params_,KNN.best_score_)",
      "execution_count": 1371,
      "outputs": [
        {
          "output_type": "error",
          "status": "error",
          "traceback": [
            "\u001b[0;31m---------------------------------------------------------------------------\u001b[0m",
            "\u001b[0;31mNameError\u001b[0m                                 Traceback (most recent call last)",
            "\u001b[0;32m<ipython-input-1371-60211d9f4fdb>\u001b[0m in \u001b[0;36m<module>\u001b[0;34m()\u001b[0m\n\u001b[1;32m      1\u001b[0m \u001b[0mparameter_grid\u001b[0m \u001b[0;34m=\u001b[0m \u001b[0;34m{\u001b[0m\u001b[0;34m'n_neighbors'\u001b[0m\u001b[0;34m:\u001b[0m\u001b[0;34m[\u001b[0m\u001b[0;36m4\u001b[0m\u001b[0;34m,\u001b[0m\u001b[0;36m5\u001b[0m\u001b[0;34m,\u001b[0m\u001b[0;36m6\u001b[0m\u001b[0;34m,\u001b[0m\u001b[0;36m7\u001b[0m\u001b[0;34m,\u001b[0m\u001b[0;36m8\u001b[0m\u001b[0;34m]\u001b[0m\u001b[0;34m,\u001b[0m \u001b[0;34m'algorithm'\u001b[0m\u001b[0;34m:\u001b[0m\u001b[0;34m[\u001b[0m\u001b[0;34m'auto'\u001b[0m\u001b[0;34m,\u001b[0m\u001b[0;34m'ball_tree'\u001b[0m\u001b[0;34m,\u001b[0m\u001b[0;34m'kd_tree'\u001b[0m\u001b[0;34m,\u001b[0m\u001b[0;34m'brute'\u001b[0m\u001b[0;34m]\u001b[0m\u001b[0;34m}\u001b[0m\u001b[0;34m\u001b[0m\u001b[0m\n\u001b[0;32m----> 2\u001b[0;31m \u001b[0mKNN\u001b[0m \u001b[0;34m=\u001b[0m \u001b[0mGridSearchC\u001b[0m\u001b[0;34m(\u001b[0m\u001b[0mKNeighborsClassifier\u001b[0m\u001b[0;34m(\u001b[0m\u001b[0;34m)\u001b[0m\u001b[0;34m,\u001b[0m\u001b[0mparameter_grid\u001b[0m\u001b[0;34m,\u001b[0m\u001b[0mcv\u001b[0m\u001b[0;34m=\u001b[0m\u001b[0;36m5\u001b[0m\u001b[0;34m)\u001b[0m\u001b[0;34m\u001b[0m\u001b[0m\n\u001b[0m\u001b[1;32m      3\u001b[0m \u001b[0mKNN\u001b[0m\u001b[0;34m.\u001b[0m\u001b[0mfit\u001b[0m\u001b[0;34m(\u001b[0m\u001b[0mtrain_features_scaled\u001b[0m\u001b[0;34m,\u001b[0m\u001b[0mtrain_labels\u001b[0m\u001b[0;34m)\u001b[0m\u001b[0;34m\u001b[0m\u001b[0m\n\u001b[1;32m      4\u001b[0m \u001b[0mprint\u001b[0m\u001b[0;34m(\u001b[0m\u001b[0;34m'parameter_grid1 : '\u001b[0m\u001b[0;34m,\u001b[0m\u001b[0mKNN\u001b[0m\u001b[0;34m.\u001b[0m\u001b[0mbest_params_\u001b[0m\u001b[0;34m,\u001b[0m\u001b[0mKNN\u001b[0m\u001b[0;34m.\u001b[0m\u001b[0mbest_score_\u001b[0m\u001b[0;34m)\u001b[0m\u001b[0;34m\u001b[0m\u001b[0m\n",
            "\u001b[0;31mNameError\u001b[0m: name 'GridSearchC' is not defined"
          ],
          "ename": "NameError",
          "evalue": "name 'GridSearchC' is not defined",
          "engine_info": {
            "engine_uuid": "4374be81-6bc8-419d-81f1-107dd8701a6d",
            "engine_id": -1,
            "method": "execute"
          },
          "execution_count": 1371,
          "user_expressions": {},
          "payload": []
        }
      ]
    },
    {
      "metadata": {
        "_uuid": "e81464989319cf0c45e2180a0e645b9d314edf94",
        "_cell_guid": "7379e288-33c1-4aab-bac7-f574958a5b6f"
      },
      "cell_type": "markdown",
      "source": "Logistic Regression",
      "outputs": [],
      "execution_count": null
    },
    {
      "metadata": {
        "_execution_state": "idle",
        "_uuid": "b79cfc032ac4ffe3914ede3d91e64922da0934fb",
        "_cell_guid": "6582ad12-0709-4a1b-9231-b8e703ae450c",
        "trusted": true,
        "collapsed": true
      },
      "cell_type": "code",
      "source": "parameter_grid = {'C':[0.01,0.1,1,10]}\nLR = GridSearchCV(LogisticRegression(),parameter_grid,cv=5)\nLR.fit(train_features_scaled,train_labels)\nprint('parameter_grid1 : ',LR.best_params_,LR.best_score_)",
      "execution_count": null,
      "outputs": []
    },
    {
      "metadata": {
        "_uuid": "07a36286b4423457e277337c5f1a7a8e7caf023a",
        "_cell_guid": "6c636bea-1b03-4626-b2c1-3f4042171341"
      },
      "cell_type": "markdown",
      "source": "Support Vector Machine",
      "outputs": [],
      "execution_count": null
    },
    {
      "metadata": {
        "_execution_state": "idle",
        "_uuid": "7adb31dee5446aab9d221180408c4569c496155e",
        "_cell_guid": "160603b0-70ec-47c5-8db2-3eb2c48e2a89",
        "trusted": true,
        "collapsed": true
      },
      "cell_type": "code",
      "source": "parameter_grid = {'C':[0.1,1,10],'gamma':['auto',0.01,0.1,1,10]}\nSVM = GridSearchCV(SVC(),parameter_grid,cv=5)\nSVM.fit(train_features_scaled,train_labels)\nprint('parameter_grid1 : ',SVM.best_params_,SVM.best_score_)",
      "execution_count": null,
      "outputs": []
    },
    {
      "metadata": {
        "_uuid": "66f8f2723af68eca118fc980ebfee9df92ba2703",
        "_cell_guid": "0bc88f11-26c1-4d70-9fa5-916f3e1f3889"
      },
      "cell_type": "markdown",
      "source": "Decision Tree",
      "outputs": [],
      "execution_count": null
    },
    {
      "metadata": {
        "_execution_state": "idle",
        "_uuid": "c97d1697f4fc003329824a4da0b0c6d5f943c94b",
        "_cell_guid": "80df3524-2938-4530-9951-28b769be26c3",
        "trusted": true,
        "collapsed": true
      },
      "cell_type": "code",
      "source": "parameter_grid = {'min_samples_split':[2,3,4],'min_samples_leaf':[1,2,3],'max_depth':[None,2,3,4]}\nDT = GridSearchCV(DecisionTreeClassifier(),parameter_grid,cv=5)\nDT.fit(train_features_scaled,train_labels)\nprint('parameter_grid1 : ',DT.best_params_,DT.best_score_)\n",
      "execution_count": null,
      "outputs": []
    },
    {
      "metadata": {
        "_uuid": "8ca7f2f55d43c339e8664721eaa06a307605d2a7",
        "_cell_guid": "ff15c4f4-e752-4e78-8c15-33d57e9f366c"
      },
      "cell_type": "markdown",
      "source": "Random Forest",
      "outputs": [],
      "execution_count": null
    },
    {
      "metadata": {
        "_execution_state": "idle",
        "_uuid": "61d08511d8abe89b3919fffd5c5e031097fd2691",
        "_cell_guid": "4b6a828e-4318-455c-a94d-e3425dc41ebf",
        "trusted": true,
        "collapsed": true
      },
      "cell_type": "code",
      "source": "parameter_grid = {'n_estimators':[100,110,120,130],'max_depth':[None,1,2,3]}\nRF = GridSearchCV(RandomForestClassifier(),parameter_grid,cv=5)\nRF.fit(train_features_scaled,train_labels)\nprint('parameter_grid1 : ',RF.best_params_,RF.best_score_)\nparameter_grid = {'min_samples_split':[2,3,4],'min_samples_leaf':[2,3,4]}\nRF = GridSearchCV(RandomForestClassifier(n_estimators=120,max_depth=None),parameter_grid,cv=5)\nRF.fit(train_features_scaled,train_labels)\nprint('parameter_grid2 : ',RF.best_params_,RF.best_score_)",
      "execution_count": null,
      "outputs": []
    },
    {
      "metadata": {
        "_uuid": "4823fa55f5e86b778d56570409ba2fae86c195df",
        "_cell_guid": "de9b3ad7-6d85-4d6f-8c1d-a1a5f9a641f8"
      },
      "cell_type": "markdown",
      "source": "Gradient Boosting Decision Tree",
      "outputs": [],
      "execution_count": null
    },
    {
      "metadata": {
        "_execution_state": "idle",
        "_uuid": "d624009bfcb34f962deb5b47d23186e9dda247af",
        "_cell_guid": "d48676b5-1285-4421-81eb-ce53699cd5cb",
        "trusted": true,
        "collapsed": true
      },
      "cell_type": "code",
      "source": "parameter_grid = {'n_estimators':[100,120,140],'max_depth':[2,3,4]}\nGB = GridSearchCV(GradientBoostingClassifier(learning_rate=0.2),parameter_grid,cv=5)\nGB.fit(train_features_scaled,train_labels)\nprint('parameter_grid1 : ',GB.best_params_,GB.best_score_)\nparameter_grid = {'min_samples_split':[60,65,70],'min_samples_leaf':[1,2,3]}\nGB = GridSearchCV(GradientBoostingClassifier(n_estimators=120,max_depth=3,learning_rate=0.2),parameter_grid,cv=5)\nGB.fit(train_features_scaled,train_labels)\nprint('parameter_grid2 : ',GB.best_params_,GB.best_score_)",
      "execution_count": null,
      "outputs": []
    },
    {
      "metadata": {
        "_uuid": "f70190766528ac54b9f9a961c937ca8155081397",
        "_cell_guid": "b048b0d5-3e43-40b5-881c-e574475173d4"
      },
      "cell_type": "markdown",
      "source": "Adaboost",
      "outputs": [],
      "execution_count": null
    },
    {
      "metadata": {
        "_execution_state": "idle",
        "_uuid": "ea6ebe1d57518ac05b2156eef38a0e7224236a6d",
        "_cell_guid": "49e2a2d6-c434-4061-8151-5a2678711687",
        "trusted": true,
        "collapsed": true
      },
      "cell_type": "code",
      "source": "parameter_grid ={'n_estimators':[110,120,130],'learning_rate':[0.01,0.1,1,10],'random_state':[None,42]}\nAda = GridSearchCV(AdaBoostClassifier(),parameter_grid,cv=5)\nAda.fit(train_features_scaled,train_labels)\nprint('parameter_grid1 : ',Ada.best_params_,Ada.best_score_)",
      "execution_count": null,
      "outputs": []
    },
    {
      "metadata": {
        "_execution_state": "idle",
        "_uuid": "dca23aa78450e2d912b648a38744ced6302df6d9",
        "_cell_guid": "023959b3-1d6e-44a9-b6d2-c899bb59a6fb",
        "trusted": true,
        "collapsed": true
      },
      "cell_type": "code",
      "source": "KNN_clf = KNeighborsClassifier(algorithm='auto', n_neighbors=6)\nLR_clf = LogisticRegression(C=0.1)\nSVM_clf = SVC(C=10,gamma='auto',probability=True)\nTree_clf = DecisionTreeClassifier(max_depth=3,min_samples_leaf=1,min_samples_split=2)\nRF_clf = RandomForestClassifier(n_estimators=120,max_depth=None,min_samples_leaf=2,min_samples_split=4)\nGB_clf = GradientBoostingClassifier(n_estimators=120,max_depth=3,min_samples_leaf=1,min_samples_split=70,learning_rate=0.2)\nAda_clf = AdaBoostClassifier(learning_rate=0.1,n_estimators=110,random_state=None)\n\nmodel_list = [('KNN',KNN_clf),('LR',LR_clf),('SVM',SVM_clf),('Tree',Tree_clf),('RF',RF_clf),('GB',GB_clf),('Ada',Ada_clf)]\nfrom sklearn.ensemble import VotingClassifier\nvoteh_clf = VotingClassifier(estimators=model_list,voting='hard')\nvotehw_clf = VotingClassifier(estimators=model_list,voting='hard',weights=[1,1,2,1,2,2,1])\nvotes_clf = VotingClassifier(estimators=model_list,voting='soft')\nvotesw_clf = VotingClassifier(estimators=model_list,voting='soft',weights=[1,1,2,1,2,2,1])\n\nnames = ['KNN','LR','SVM','Tree','RF','GB','Ada','voteh','votehw','votes','votesw']\nmodels = [KNN_clf,LR_clf,SVM_clf,Tree_clf,RF_clf,GB_clf,Ada_clf,voteh_clf,votehw_clf,votes_clf,votesw_clf]\n\nfor name,model in zip(names,models):\n    score=cross_val_score(model,train_features_scaled,train_labels,cv=5)\n    print('{} :: {} , {}'.format(name,score.mean(),score))",
      "execution_count": null,
      "outputs": []
    },
    {
      "metadata": {
        "_execution_state": "idle",
        "_uuid": "2d205bd3475b2fab526211bc9a0fb7965668afa9",
        "_cell_guid": "1811b423-e522-4f82-a2da-dbb02b708a42",
        "collapsed": true,
        "trusted": true
      },
      "cell_type": "code",
      "source": "import numpy as np\nn_train=train.shape[0]\nn_test=test.shape[0]\nNFOLDS = 10\nfrom sklearn.model_selection import StratifiedKFold\nkf = StratifiedKFold(n_splits=NFOLDS,shuffle=True,random_state=0)",
      "execution_count": null,
      "outputs": []
    },
    {
      "metadata": {
        "_uuid": "160c1d49962f1afc584401e480c21625210a4271",
        "_cell_guid": "ad0d7023-1cd5-48d4-8a13-8a327145b5e9"
      },
      "cell_type": "markdown",
      "source": "Out-of-Fold Predictions",
      "outputs": [],
      "execution_count": null
    },
    {
      "metadata": {
        "_execution_state": "idle",
        "_uuid": "a08bc23854664b3804e0b5c6240e406d9430746f",
        "_cell_guid": "b32386c3-4399-4a6e-be15-05a7de52759b",
        "collapsed": true,
        "trusted": true
      },
      "cell_type": "code",
      "source": "def get_oof(clf,X_train,Y_train,X_test):\n    oof_train=np.zeros((n_train,))\n    oof_test_mean=np.zeros((n_test,))\n    oof_test_single=np.empty((NFOLDS,n_test))\n    for i, (train_index,test_index) in enumerate(kf.split(X_train,Y_train)):\n        kf_X_train=X_train[train_index]\n        kf_Y_train=Y_train[train_index]\n        kf_X_test=X_train[test_index]\n        \n        clf.fit(kf_X_train,kf_Y_train)\n        \n        oof_train[test_index]=clf.predict(kf_X_test)\n        oof_test_single[i,:]=clf.predict(X_test)\n    oof_test_mean=oof_test_single.mean(axis=0)\n    return oof_train.reshape(-1,1), oof_test_mean.reshape(-1,1)",
      "execution_count": null,
      "outputs": []
    },
    {
      "metadata": {
        "_execution_state": "idle",
        "_uuid": "e84d4b46618887f8405f11e14a01a90887bd3a7a",
        "_cell_guid": "b7039dba-f48e-4ef3-8bf0-20287f778319",
        "collapsed": true,
        "trusted": true
      },
      "cell_type": "code",
      "source": "#KNN_train,KNN_test= get_oof(KNN_clf, train_features_scaled,train_labels,test_features_scaled)\n#LR_train,LR_test= get_oof(LR_clf, train_features_scaled,train_labels,test_features_scaled)\n#SVM_train,SVM_test= get_oof(SVM_clf, train_features_scaled,train_labels,test_features_scaled)\n#Tree_train,Tree_test= get_oof(Tree_clf, train_features_scaled,train_labels,test_features_scaled)\n#RF_train,RF_test= get_oof(RF_clf, train_features_scaled,train_labels,test_features_scaled)\n#GB_train,GB_test= get_oof(GB_clf, train_features_scaled,train_labels,test_features_scaled)\n#Ada_train,Ada_test= get_oof(Ada_clf, train_features_scaled,train_labels,test_features_scaled)\nvoteh_train,voteh_test = get_oof(voteh_clf, train_features_scaled,train_labels,test_features_scaled)\nvotehw_train,votehw_test = get_oof(votehw_clf, train_features_scaled,train_labels,test_features_scaled)\nvotes_train,votes_test = get_oof(votes_clf, train_features_scaled,train_labels,test_features_scaled)\nvotesw_train,votesw_test = get_oof(votesw_clf, train_features_scaled,train_labels,test_features_scaled)\n\nX_train_stack = np.concatenate((#KNN_train,LR_train,\n                                #SVM_train,#Tree_train,\n                                #RF_train,GB_train,#Ada_train,\n                                voteh_train,votehw_train,votes_train,votesw_train),axis=1)\nX_test_stack = np.concatenate((#KNN_test,LR_test,\n                               #SVM_test,#Tree_test,\n                               #RF_test,GB_test,#Ada_test,\n                               voteh_test,votehw_test,votes_test,votesw_test),axis=1)",
      "execution_count": null,
      "outputs": []
    },
    {
      "metadata": {
        "_execution_state": "idle",
        "_uuid": "0e00aef92742dd2dddfb18ca57e66db5c52cf259",
        "_cell_guid": "8bcbe7ba-c746-4da2-bdef-519306152353",
        "trusted": true,
        "collapsed": true
      },
      "cell_type": "code",
      "source": "from xgboost import XGBClassifier\nparameter_grid = {'n_estimators':[10,20,30],'max_depth':[1,2,3,4,5],'min_child_weight':[1,2,3]}\nXGB_clf = GridSearchCV(XGBClassifier(),parameter_grid,cv=5)\nXGB_clf.fit(X_train_stack,train_labels)\nprint('parameter_grid2 : ',XGB_clf.best_params_,XGB_clf.best_score_)\nfrom xgboost import XGBClassifier\nparameter_grid = {'gamma':[0.01,0.1,0],'subsample':[0.1,0.5,1]}\nXGB_clf = GridSearchCV(XGBClassifier(n_estimators=10,max_depth=3,min_child_weight=1),parameter_grid,cv=5)\nXGB_clf.fit(X_train_stack,train_labels)\nprint('parameter_grid2 : ',XGB_clf.best_params_,XGB_clf.best_score_)\nparameter_grid = {'learning_rate':[0.01,0.1,1,10]}\nXGB_clf = GridSearchCV(XGBClassifier(n_estimators=10,max_depth=3,min_child_weight=1,gamma=0.01,subsample=1),parameter_grid,cv=5)\nXGB_clf.fit(X_train_stack,train_labels)\nprint('parameter_grid3 : ',XGB_clf.best_params_,XGB_clf.best_score_)",
      "execution_count": null,
      "outputs": []
    },
    {
      "metadata": {
        "_execution_state": "idle",
        "_uuid": "7d44d6dcc84149af867c20dea66daea1b447ea5c",
        "_cell_guid": "2f67c423-842d-4040-aa73-7550b99403ec",
        "collapsed": true,
        "trusted": true
      },
      "cell_type": "code",
      "source": "from xgboost import XGBClassifier\nXGB_clf = XGBClassifier(n_estimators=10,learning_rate=0.01,max_depth=3,min_child_weight=1,gamma=0.01,subsample=1)\nXGB_clf.fit(X_train_stack,train_labels)\npred = XGB_clf.predict(X_test_stack)\ntest_labels = pd.DataFrame({'PassengerId':test['PassengerId'],'Survived':list(map(int,pred))})\ntest_labels.to_csv('Titanic_solution.csv',index=False)",
      "execution_count": null,
      "outputs": [
        {
          "output_type": "execute_result",
          "execution_count": 1548,
          "data": {
            "text/plain": "(1309, 12)"
          },
          "metadata": {}
        },
        {
          "output_type": "execute_result",
          "execution_count": 1549,
          "data": {
            "text/plain": "       Age        Cabin Embarked      Fare  \\\n258   35.0          NaN        C  512.3292   \n679   36.0  B51 B53 B55        C  512.3292   \n737   35.0         B101        C  512.3292   \n1234  58.0  B51 B53 B55        C  512.3292   \n27    19.0  C23 C25 C27        S  263.0000   \n\n                                                   Name  Parch  PassengerId  \\\n258                                    Ward, Miss. Anna      0          259   \n679                  Cardeza, Mr. Thomas Drake Martinez      1          680   \n737                              Lesurer, Mr. Gustave J      0          738   \n1234  Cardeza, Mrs. James Warburton Martinez (Charlo...      1         1235   \n27                       Fortune, Mr. Charles Alexander      2           28   \n\n      Pclass     Sex  SibSp  Survived    Ticket  \n258        1  female      0       1.0  PC 17755  \n679        1    male      0       1.0  PC 17755  \n737        1    male      0       1.0  PC 17755  \n1234       1  female      0       NaN  PC 17755  \n27         1    male      3       0.0     19950  ",
            "text/html": "<div>\n<style>\n    .dataframe thead tr:only-child th {\n        text-align: right;\n    }\n\n    .dataframe thead th {\n        text-align: left;\n    }\n\n    .dataframe tbody tr th {\n        vertical-align: top;\n    }\n</style>\n<table border=\"1\" class=\"dataframe\">\n  <thead>\n    <tr style=\"text-align: right;\">\n      <th></th>\n      <th>Age</th>\n      <th>Cabin</th>\n      <th>Embarked</th>\n      <th>Fare</th>\n      <th>Name</th>\n      <th>Parch</th>\n      <th>PassengerId</th>\n      <th>Pclass</th>\n      <th>Sex</th>\n      <th>SibSp</th>\n      <th>Survived</th>\n      <th>Ticket</th>\n    </tr>\n  </thead>\n  <tbody>\n    <tr>\n      <th>258</th>\n      <td>35.0</td>\n      <td>NaN</td>\n      <td>C</td>\n      <td>512.3292</td>\n      <td>Ward, Miss. Anna</td>\n      <td>0</td>\n      <td>259</td>\n      <td>1</td>\n      <td>female</td>\n      <td>0</td>\n      <td>1.0</td>\n      <td>PC 17755</td>\n    </tr>\n    <tr>\n      <th>679</th>\n      <td>36.0</td>\n      <td>B51 B53 B55</td>\n      <td>C</td>\n      <td>512.3292</td>\n      <td>Cardeza, Mr. Thomas Drake Martinez</td>\n      <td>1</td>\n      <td>680</td>\n      <td>1</td>\n      <td>male</td>\n      <td>0</td>\n      <td>1.0</td>\n      <td>PC 17755</td>\n    </tr>\n    <tr>\n      <th>737</th>\n      <td>35.0</td>\n      <td>B101</td>\n      <td>C</td>\n      <td>512.3292</td>\n      <td>Lesurer, Mr. Gustave J</td>\n      <td>0</td>\n      <td>738</td>\n      <td>1</td>\n      <td>male</td>\n      <td>0</td>\n      <td>1.0</td>\n      <td>PC 17755</td>\n    </tr>\n    <tr>\n      <th>1234</th>\n      <td>58.0</td>\n      <td>B51 B53 B55</td>\n      <td>C</td>\n      <td>512.3292</td>\n      <td>Cardeza, Mrs. James Warburton Martinez (Charlo...</td>\n      <td>1</td>\n      <td>1235</td>\n      <td>1</td>\n      <td>female</td>\n      <td>0</td>\n      <td>NaN</td>\n      <td>PC 17755</td>\n    </tr>\n    <tr>\n      <th>27</th>\n      <td>19.0</td>\n      <td>C23 C25 C27</td>\n      <td>S</td>\n      <td>263.0000</td>\n      <td>Fortune, Mr. Charles Alexander</td>\n      <td>2</td>\n      <td>28</td>\n      <td>1</td>\n      <td>male</td>\n      <td>3</td>\n      <td>0.0</td>\n      <td>19950</td>\n    </tr>\n  </tbody>\n</table>\n</div>"
          },
          "metadata": {}
        },
        {
          "output_type": "execute_result",
          "execution_count": 1550,
          "data": {
            "text/plain": "Age             263\nCabin          1014\nEmbarked          2\nFare              1\nName              0\nParch             0\nPassengerId       0\nPclass            0\nSex               0\nSibSp             0\nSurvived        418\nTicket            0\ndtype: int64"
          },
          "metadata": {}
        },
        {
          "output_type": "display_data",
          "transient": {},
          "data": {
            "text/plain": "<matplotlib.figure.Figure at 0x7f70bf4e0cf8>",
            "image/png": "[encoded data removed]"
          },
          "metadata": {}
        },
        {
          "output_type": "execute_result",
          "execution_count": 1552,
          "data": {
            "text/plain": "       Age        Cabin Embarked      Fare  \\\n258   35.0          NaN        C  512.3292   \n679   36.0  B51 B53 B55        C  512.3292   \n737   35.0         B101        C  512.3292   \n1234  58.0  B51 B53 B55        C  512.3292   \n27    19.0  C23 C25 C27        S  263.0000   \n\n                                                   Name  Parch  PassengerId  \\\n258                                    Ward, Miss. Anna      0          259   \n679                  Cardeza, Mr. Thomas Drake Martinez      1          680   \n737                              Lesurer, Mr. Gustave J      0          738   \n1234  Cardeza, Mrs. James Warburton Martinez (Charlo...      1         1235   \n27                       Fortune, Mr. Charles Alexander      2           28   \n\n      Pclass     Sex  SibSp  Survived    Ticket  Fare_per_person  \n258        1  female      0       1.0  PC 17755       128.082300  \n679        1    male      0       1.0  PC 17755       128.082300  \n737        1    male      0       1.0  PC 17755       128.082300  \n1234       1  female      0       NaN  PC 17755       128.082300  \n27         1    male      3       0.0     19950        43.833333  ",
            "text/html": "<div>\n<style>\n    .dataframe thead tr:only-child th {\n        text-align: right;\n    }\n\n    .dataframe thead th {\n        text-align: left;\n    }\n\n    .dataframe tbody tr th {\n        vertical-align: top;\n    }\n</style>\n<table border=\"1\" class=\"dataframe\">\n  <thead>\n    <tr style=\"text-align: right;\">\n      <th></th>\n      <th>Age</th>\n      <th>Cabin</th>\n      <th>Embarked</th>\n      <th>Fare</th>\n      <th>Name</th>\n      <th>Parch</th>\n      <th>PassengerId</th>\n      <th>Pclass</th>\n      <th>Sex</th>\n      <th>SibSp</th>\n      <th>Survived</th>\n      <th>Ticket</th>\n      <th>Fare_per_person</th>\n    </tr>\n  </thead>\n  <tbody>\n    <tr>\n      <th>258</th>\n      <td>35.0</td>\n      <td>NaN</td>\n      <td>C</td>\n      <td>512.3292</td>\n      <td>Ward, Miss. Anna</td>\n      <td>0</td>\n      <td>259</td>\n      <td>1</td>\n      <td>female</td>\n      <td>0</td>\n      <td>1.0</td>\n      <td>PC 17755</td>\n      <td>128.082300</td>\n    </tr>\n    <tr>\n      <th>679</th>\n      <td>36.0</td>\n      <td>B51 B53 B55</td>\n      <td>C</td>\n      <td>512.3292</td>\n      <td>Cardeza, Mr. Thomas Drake Martinez</td>\n      <td>1</td>\n      <td>680</td>\n      <td>1</td>\n      <td>male</td>\n      <td>0</td>\n      <td>1.0</td>\n      <td>PC 17755</td>\n      <td>128.082300</td>\n    </tr>\n    <tr>\n      <th>737</th>\n      <td>35.0</td>\n      <td>B101</td>\n      <td>C</td>\n      <td>512.3292</td>\n      <td>Lesurer, Mr. Gustave J</td>\n      <td>0</td>\n      <td>738</td>\n      <td>1</td>\n      <td>male</td>\n      <td>0</td>\n      <td>1.0</td>\n      <td>PC 17755</td>\n      <td>128.082300</td>\n    </tr>\n    <tr>\n      <th>1234</th>\n      <td>58.0</td>\n      <td>B51 B53 B55</td>\n      <td>C</td>\n      <td>512.3292</td>\n      <td>Cardeza, Mrs. James Warburton Martinez (Charlo...</td>\n      <td>1</td>\n      <td>1235</td>\n      <td>1</td>\n      <td>female</td>\n      <td>0</td>\n      <td>NaN</td>\n      <td>PC 17755</td>\n      <td>128.082300</td>\n    </tr>\n    <tr>\n      <th>27</th>\n      <td>19.0</td>\n      <td>C23 C25 C27</td>\n      <td>S</td>\n      <td>263.0000</td>\n      <td>Fortune, Mr. Charles Alexander</td>\n      <td>2</td>\n      <td>28</td>\n      <td>1</td>\n      <td>male</td>\n      <td>3</td>\n      <td>0.0</td>\n      <td>19950</td>\n      <td>43.833333</td>\n    </tr>\n  </tbody>\n</table>\n</div>"
          },
          "metadata": {}
        },
        {
          "output_type": "execute_result",
          "execution_count": 1553,
          "data": {
            "text/plain": "       Age Cabin Embarked      Fare  \\\n258   35.0     B        C  512.3292   \n679   36.0     B        C  512.3292   \n737   35.0     B        C  512.3292   \n1234  58.0     B        C  512.3292   \n27    19.0     C        S  263.0000   \n\n                                                   Name  Parch  PassengerId  \\\n258                                    Ward, Miss. Anna      0          259   \n679                  Cardeza, Mr. Thomas Drake Martinez      1          680   \n737                              Lesurer, Mr. Gustave J      0          738   \n1234  Cardeza, Mrs. James Warburton Martinez (Charlo...      1         1235   \n27                       Fortune, Mr. Charles Alexander      2           28   \n\n      Pclass     Sex  SibSp  Survived    Ticket  Fare_per_person  \n258        1  female      0       1.0  PC 17755       128.082300  \n679        1    male      0       1.0  PC 17755       128.082300  \n737        1    male      0       1.0  PC 17755       128.082300  \n1234       1  female      0       NaN  PC 17755       128.082300  \n27         1    male      3       0.0     19950        43.833333  ",
            "text/html": "<div>\n<style>\n    .dataframe thead tr:only-child th {\n        text-align: right;\n    }\n\n    .dataframe thead th {\n        text-align: left;\n    }\n\n    .dataframe tbody tr th {\n        vertical-align: top;\n    }\n</style>\n<table border=\"1\" class=\"dataframe\">\n  <thead>\n    <tr style=\"text-align: right;\">\n      <th></th>\n      <th>Age</th>\n      <th>Cabin</th>\n      <th>Embarked</th>\n      <th>Fare</th>\n      <th>Name</th>\n      <th>Parch</th>\n      <th>PassengerId</th>\n      <th>Pclass</th>\n      <th>Sex</th>\n      <th>SibSp</th>\n      <th>Survived</th>\n      <th>Ticket</th>\n      <th>Fare_per_person</th>\n    </tr>\n  </thead>\n  <tbody>\n    <tr>\n      <th>258</th>\n      <td>35.0</td>\n      <td>B</td>\n      <td>C</td>\n      <td>512.3292</td>\n      <td>Ward, Miss. Anna</td>\n      <td>0</td>\n      <td>259</td>\n      <td>1</td>\n      <td>female</td>\n      <td>0</td>\n      <td>1.0</td>\n      <td>PC 17755</td>\n      <td>128.082300</td>\n    </tr>\n    <tr>\n      <th>679</th>\n      <td>36.0</td>\n      <td>B</td>\n      <td>C</td>\n      <td>512.3292</td>\n      <td>Cardeza, Mr. Thomas Drake Martinez</td>\n      <td>1</td>\n      <td>680</td>\n      <td>1</td>\n      <td>male</td>\n      <td>0</td>\n      <td>1.0</td>\n      <td>PC 17755</td>\n      <td>128.082300</td>\n    </tr>\n    <tr>\n      <th>737</th>\n      <td>35.0</td>\n      <td>B</td>\n      <td>C</td>\n      <td>512.3292</td>\n      <td>Lesurer, Mr. Gustave J</td>\n      <td>0</td>\n      <td>738</td>\n      <td>1</td>\n      <td>male</td>\n      <td>0</td>\n      <td>1.0</td>\n      <td>PC 17755</td>\n      <td>128.082300</td>\n    </tr>\n    <tr>\n      <th>1234</th>\n      <td>58.0</td>\n      <td>B</td>\n      <td>C</td>\n      <td>512.3292</td>\n      <td>Cardeza, Mrs. James Warburton Martinez (Charlo...</td>\n      <td>1</td>\n      <td>1235</td>\n      <td>1</td>\n      <td>female</td>\n      <td>0</td>\n      <td>NaN</td>\n      <td>PC 17755</td>\n      <td>128.082300</td>\n    </tr>\n    <tr>\n      <th>27</th>\n      <td>19.0</td>\n      <td>C</td>\n      <td>S</td>\n      <td>263.0000</td>\n      <td>Fortune, Mr. Charles Alexander</td>\n      <td>2</td>\n      <td>28</td>\n      <td>1</td>\n      <td>male</td>\n      <td>3</td>\n      <td>0.0</td>\n      <td>19950</td>\n      <td>43.833333</td>\n    </tr>\n  </tbody>\n</table>\n</div>"
          },
          "metadata": {}
        },
        {
          "output_type": "execute_result",
          "execution_count": 1554,
          "data": {
            "text/plain": "Survived         0.0        1.0\nCabin                          \nA          53.333333  46.666667\nB          25.000000  75.000000\nC          38.805970  61.194030\nD          24.242424  75.757576\nE          27.272727  72.727273\nF          38.461538  61.538462\nG          50.000000  50.000000\nT         100.000000   0.000000\nU          70.605613  29.394387",
            "text/html": "<div>\n<style>\n    .dataframe thead tr:only-child th {\n        text-align: right;\n    }\n\n    .dataframe thead th {\n        text-align: left;\n    }\n\n    .dataframe tbody tr th {\n        vertical-align: top;\n    }\n</style>\n<table border=\"1\" class=\"dataframe\">\n  <thead>\n    <tr style=\"text-align: right;\">\n      <th>Survived</th>\n      <th>0.0</th>\n      <th>1.0</th>\n    </tr>\n    <tr>\n      <th>Cabin</th>\n      <th></th>\n      <th></th>\n    </tr>\n  </thead>\n  <tbody>\n    <tr>\n      <th>A</th>\n      <td>53.333333</td>\n      <td>46.666667</td>\n    </tr>\n    <tr>\n      <th>B</th>\n      <td>25.000000</td>\n      <td>75.000000</td>\n    </tr>\n    <tr>\n      <th>C</th>\n      <td>38.805970</td>\n      <td>61.194030</td>\n    </tr>\n    <tr>\n      <th>D</th>\n      <td>24.242424</td>\n      <td>75.757576</td>\n    </tr>\n    <tr>\n      <th>E</th>\n      <td>27.272727</td>\n      <td>72.727273</td>\n    </tr>\n    <tr>\n      <th>F</th>\n      <td>38.461538</td>\n      <td>61.538462</td>\n    </tr>\n    <tr>\n      <th>G</th>\n      <td>50.000000</td>\n      <td>50.000000</td>\n    </tr>\n    <tr>\n      <th>T</th>\n      <td>100.000000</td>\n      <td>0.000000</td>\n    </tr>\n    <tr>\n      <th>U</th>\n      <td>70.605613</td>\n      <td>29.394387</td>\n    </tr>\n  </tbody>\n</table>\n</div>"
          },
          "metadata": {}
        },
        {
          "output_type": "display_data",
          "transient": {},
          "data": {
            "text/plain": "<matplotlib.figure.Figure at 0x7f70bfe40710>",
            "image/png": "[encoded data removed]"
          },
          "metadata": {}
        },
        {
          "output_type": "execute_result",
          "execution_count": 1557,
          "data": {
            "text/plain": "Sex           female  male\nTitle                     \nCapt               0     1\nCol                0     4\nDon                0     1\nDona               1     0\nDr                 1     7\nJonkheer           0     1\nLady               1     0\nMajor              0     2\nMaster             0    61\nMiss             260     0\nMlle               2     0\nMme                1     0\nMr                 0   757\nMrs              197     0\nMs                 2     0\nRev                0     8\nSir                0     1\nthe Countess       1     0",
            "text/html": "<div>\n<style>\n    .dataframe thead tr:only-child th {\n        text-align: right;\n    }\n\n    .dataframe thead th {\n        text-align: left;\n    }\n\n    .dataframe tbody tr th {\n        vertical-align: top;\n    }\n</style>\n<table border=\"1\" class=\"dataframe\">\n  <thead>\n    <tr style=\"text-align: right;\">\n      <th>Sex</th>\n      <th>female</th>\n      <th>male</th>\n    </tr>\n    <tr>\n      <th>Title</th>\n      <th></th>\n      <th></th>\n    </tr>\n  </thead>\n  <tbody>\n    <tr>\n      <th>Capt</th>\n      <td>0</td>\n      <td>1</td>\n    </tr>\n    <tr>\n      <th>Col</th>\n      <td>0</td>\n      <td>4</td>\n    </tr>\n    <tr>\n      <th>Don</th>\n      <td>0</td>\n      <td>1</td>\n    </tr>\n    <tr>\n      <th>Dona</th>\n      <td>1</td>\n      <td>0</td>\n    </tr>\n    <tr>\n      <th>Dr</th>\n      <td>1</td>\n      <td>7</td>\n    </tr>\n    <tr>\n      <th>Jonkheer</th>\n      <td>0</td>\n      <td>1</td>\n    </tr>\n    <tr>\n      <th>Lady</th>\n      <td>1</td>\n      <td>0</td>\n    </tr>\n    <tr>\n      <th>Major</th>\n      <td>0</td>\n      <td>2</td>\n    </tr>\n    <tr>\n      <th>Master</th>\n      <td>0</td>\n      <td>61</td>\n    </tr>\n    <tr>\n      <th>Miss</th>\n      <td>260</td>\n      <td>0</td>\n    </tr>\n    <tr>\n      <th>Mlle</th>\n      <td>2</td>\n      <td>0</td>\n    </tr>\n    <tr>\n      <th>Mme</th>\n      <td>1</td>\n      <td>0</td>\n    </tr>\n    <tr>\n      <th>Mr</th>\n      <td>0</td>\n      <td>757</td>\n    </tr>\n    <tr>\n      <th>Mrs</th>\n      <td>197</td>\n      <td>0</td>\n    </tr>\n    <tr>\n      <th>Ms</th>\n      <td>2</td>\n      <td>0</td>\n    </tr>\n    <tr>\n      <th>Rev</th>\n      <td>0</td>\n      <td>8</td>\n    </tr>\n    <tr>\n      <th>Sir</th>\n      <td>0</td>\n      <td>1</td>\n    </tr>\n    <tr>\n      <th>the Countess</th>\n      <td>1</td>\n      <td>0</td>\n    </tr>\n  </tbody>\n</table>\n</div>"
          },
          "metadata": {}
        },
        {
          "output_type": "execute_result",
          "execution_count": 1559,
          "data": {
            "text/plain": "        Max_Age   Mean_Age  Min_Age\nTitle                              \nMaster     14.5   5.482642     0.33\nMiss       63.0  21.824366     0.17\nMr         80.0  32.784298    11.00\nMrs        76.0  37.040000    14.00",
            "text/html": "<div>\n<style>\n    .dataframe thead tr:only-child th {\n        text-align: right;\n    }\n\n    .dataframe thead th {\n        text-align: left;\n    }\n\n    .dataframe tbody tr th {\n        vertical-align: top;\n    }\n</style>\n<table border=\"1\" class=\"dataframe\">\n  <thead>\n    <tr style=\"text-align: right;\">\n      <th></th>\n      <th>Max_Age</th>\n      <th>Mean_Age</th>\n      <th>Min_Age</th>\n    </tr>\n    <tr>\n      <th>Title</th>\n      <th></th>\n      <th></th>\n      <th></th>\n    </tr>\n  </thead>\n  <tbody>\n    <tr>\n      <th>Master</th>\n      <td>14.5</td>\n      <td>5.482642</td>\n      <td>0.33</td>\n    </tr>\n    <tr>\n      <th>Miss</th>\n      <td>63.0</td>\n      <td>21.824366</td>\n      <td>0.17</td>\n    </tr>\n    <tr>\n      <th>Mr</th>\n      <td>80.0</td>\n      <td>32.784298</td>\n      <td>11.00</td>\n    </tr>\n    <tr>\n      <th>Mrs</th>\n      <td>76.0</td>\n      <td>37.040000</td>\n      <td>14.00</td>\n    </tr>\n  </tbody>\n</table>\n</div>"
          },
          "metadata": {}
        },
        {
          "output_type": "execute_result",
          "execution_count": 1560,
          "data": {
            "text/plain": "Mr        782\nMiss      215\nMrs       202\nMaster     61\nGirl       49\nName: Title, dtype: int64"
          },
          "metadata": {}
        },
        {
          "output_type": "display_data",
          "transient": {},
          "data": {
            "text/plain": "<matplotlib.figure.Figure at 0x7f70c4113908>",
            "image/png": "[encoded data removed]"
          },
          "metadata": {}
        },
        {
          "output_type": "execute_result",
          "execution_count": 1566,
          "data": {
            "text/plain": "                       TPA_mean\nTitle  Pclass IsAlone          \nMaster 1      0        1.000000\n       2      0        1.000000\nMiss   1      0        1.000000\n       2      0        1.000000\nMrs    1      1        1.000000\nGirl   2      0        1.000000\nMrs    1      0        0.974359\nMiss   1      1        0.962963\nMrs    2      1        0.909091\nMiss   2      1        0.904762\nMrs    2      0        0.900000\n       3      1        0.800000\nGirl   3      1        0.666667\nMiss   3      1        0.596154\nGirl   1      0        0.500000\n       3      0        0.478261\nMrs    3      0        0.459459\nMaster 3      0        0.392857\nMr     1      0        0.386364\n              1        0.333333\nMiss   3      0        0.291667\nMr     3      1        0.121212\n       2      1        0.097222\n       3      0        0.072727\n       2      0        0.037037",
            "text/html": "<div>\n<style>\n    .dataframe thead tr:only-child th {\n        text-align: right;\n    }\n\n    .dataframe thead th {\n        text-align: left;\n    }\n\n    .dataframe tbody tr th {\n        vertical-align: top;\n    }\n</style>\n<table border=\"1\" class=\"dataframe\">\n  <thead>\n    <tr style=\"text-align: right;\">\n      <th></th>\n      <th></th>\n      <th></th>\n      <th>TPA_mean</th>\n    </tr>\n    <tr>\n      <th>Title</th>\n      <th>Pclass</th>\n      <th>IsAlone</th>\n      <th></th>\n    </tr>\n  </thead>\n  <tbody>\n    <tr>\n      <th rowspan=\"2\" valign=\"top\">Master</th>\n      <th>1</th>\n      <th>0</th>\n      <td>1.000000</td>\n    </tr>\n    <tr>\n      <th>2</th>\n      <th>0</th>\n      <td>1.000000</td>\n    </tr>\n    <tr>\n      <th rowspan=\"2\" valign=\"top\">Miss</th>\n      <th>1</th>\n      <th>0</th>\n      <td>1.000000</td>\n    </tr>\n    <tr>\n      <th>2</th>\n      <th>0</th>\n      <td>1.000000</td>\n    </tr>\n    <tr>\n      <th>Mrs</th>\n      <th>1</th>\n      <th>1</th>\n      <td>1.000000</td>\n    </tr>\n    <tr>\n      <th>Girl</th>\n      <th>2</th>\n      <th>0</th>\n      <td>1.000000</td>\n    </tr>\n    <tr>\n      <th>Mrs</th>\n      <th>1</th>\n      <th>0</th>\n      <td>0.974359</td>\n    </tr>\n    <tr>\n      <th>Miss</th>\n      <th>1</th>\n      <th>1</th>\n      <td>0.962963</td>\n    </tr>\n    <tr>\n      <th>Mrs</th>\n      <th>2</th>\n      <th>1</th>\n      <td>0.909091</td>\n    </tr>\n    <tr>\n      <th>Miss</th>\n      <th>2</th>\n      <th>1</th>\n      <td>0.904762</td>\n    </tr>\n    <tr>\n      <th rowspan=\"2\" valign=\"top\">Mrs</th>\n      <th>2</th>\n      <th>0</th>\n      <td>0.900000</td>\n    </tr>\n    <tr>\n      <th>3</th>\n      <th>1</th>\n      <td>0.800000</td>\n    </tr>\n    <tr>\n      <th>Girl</th>\n      <th>3</th>\n      <th>1</th>\n      <td>0.666667</td>\n    </tr>\n    <tr>\n      <th>Miss</th>\n      <th>3</th>\n      <th>1</th>\n      <td>0.596154</td>\n    </tr>\n    <tr>\n      <th rowspan=\"2\" valign=\"top\">Girl</th>\n      <th>1</th>\n      <th>0</th>\n      <td>0.500000</td>\n    </tr>\n    <tr>\n      <th>3</th>\n      <th>0</th>\n      <td>0.478261</td>\n    </tr>\n    <tr>\n      <th>Mrs</th>\n      <th>3</th>\n      <th>0</th>\n      <td>0.459459</td>\n    </tr>\n    <tr>\n      <th>Master</th>\n      <th>3</th>\n      <th>0</th>\n      <td>0.392857</td>\n    </tr>\n    <tr>\n      <th rowspan=\"2\" valign=\"top\">Mr</th>\n      <th rowspan=\"2\" valign=\"top\">1</th>\n      <th>0</th>\n      <td>0.386364</td>\n    </tr>\n    <tr>\n      <th>1</th>\n      <td>0.333333</td>\n    </tr>\n    <tr>\n      <th>Miss</th>\n      <th>3</th>\n      <th>0</th>\n      <td>0.291667</td>\n    </tr>\n    <tr>\n      <th rowspan=\"4\" valign=\"top\">Mr</th>\n      <th>3</th>\n      <th>1</th>\n      <td>0.121212</td>\n    </tr>\n    <tr>\n      <th>2</th>\n      <th>1</th>\n      <td>0.097222</td>\n    </tr>\n    <tr>\n      <th>3</th>\n      <th>0</th>\n      <td>0.072727</td>\n    </tr>\n    <tr>\n      <th>2</th>\n      <th>0</th>\n      <td>0.037037</td>\n    </tr>\n  </tbody>\n</table>\n</div>"
          },
          "metadata": {}
        },
        {
          "output_type": "execute_result",
          "execution_count": 1567,
          "data": {
            "text/plain": "Title        object\nPclass        int64\nIsAlone       int64\nTPA_range     int64\ndtype: object"
          },
          "metadata": {}
        },
        {
          "output_type": "execute_result",
          "execution_count": 1570,
          "data": {
            "text/plain": "Age                float64\nFare_per_person    float64\nCabin_survived       int64\nPclass               int64\nSex                  int64\nParch                int64\nSibSp                int64\nFamily               int64\nIsAlone              int64\nTPA_range            int64\nAge_grp_1            uint8\nAge_grp_2            uint8\nAge_grp_3            uint8\nAge_grp_4            uint8\nAge_grp_5            uint8\nFare_grp_1           uint8\nFare_grp_2           uint8\nFare_grp_3           uint8\nFare_grp_4           uint8\nFare_grp_5           uint8\nEmbarked_C           uint8\nEmbarked_Q           uint8\nEmbarked_S           uint8\nTitle_Girl           uint8\nTitle_Master         uint8\nTitle_Miss           uint8\nTitle_Mr             uint8\nTitle_Mrs            uint8\ndtype: object"
          },
          "metadata": {}
        },
        {
          "output_type": "execute_result",
          "execution_count": 1571,
          "data": {
            "text/plain": "0    0\n1    1\n2    1\n3    1\n4    0\nName: Survived, dtype: int64"
          },
          "metadata": {}
        },
        {
          "output_type": "execute_result",
          "execution_count": 1572,
          "data": {
            "text/plain": "      Age  Fare_per_person  Cabin_survived  Pclass  Sex  Parch  SibSp  Family  \\\n891  34.5          7.82920               0       3    1      0      0       1   \n892  47.0          7.00000               0       3    0      0      1       2   \n893  62.0          9.68750               0       2    1      0      0       1   \n894  27.0          8.66250               0       3    1      0      0       1   \n895  22.0          6.14375               0       3    0      1      1       3   \n\n     IsAlone  TPA_range  Age_grp_1  Age_grp_2  Age_grp_3  Age_grp_4  \\\n891        1         10          0          0          1          0   \n892        0          6          0          0          1          0   \n893        1         10          0          0          0          1   \n894        1         10          0          1          0          0   \n895        0          6          0          1          0          0   \n\n     Age_grp_5  Fare_grp_1  Fare_grp_2  Fare_grp_3  Fare_grp_4  Fare_grp_5  \\\n891          0           0           1           0           0           0   \n892          0           1           0           0           0           0   \n893          0           0           0           1           0           0   \n894          0           0           0           1           0           0   \n895          0           1           0           0           0           0   \n\n     Embarked_C  Embarked_Q  Embarked_S  Title_Girl  Title_Master  Title_Miss  \\\n891           0           1           0           0             0           0   \n892           0           0           1           0             0           0   \n893           0           1           0           0             0           0   \n894           0           0           1           0             0           0   \n895           0           0           1           0             0           0   \n\n     Title_Mr  Title_Mrs  \n891         1          0  \n892         0          1  \n893         1          0  \n894         1          0  \n895         0          1  ",
            "text/html": "<div>\n<style>\n    .dataframe thead tr:only-child th {\n        text-align: right;\n    }\n\n    .dataframe thead th {\n        text-align: left;\n    }\n\n    .dataframe tbody tr th {\n        vertical-align: top;\n    }\n</style>\n<table border=\"1\" class=\"dataframe\">\n  <thead>\n    <tr style=\"text-align: right;\">\n      <th></th>\n      <th>Age</th>\n      <th>Fare_per_person</th>\n      <th>Cabin_survived</th>\n      <th>Pclass</th>\n      <th>Sex</th>\n      <th>Parch</th>\n      <th>SibSp</th>\n      <th>Family</th>\n      <th>IsAlone</th>\n      <th>TPA_range</th>\n      <th>Age_grp_1</th>\n      <th>Age_grp_2</th>\n      <th>Age_grp_3</th>\n      <th>Age_grp_4</th>\n      <th>Age_grp_5</th>\n      <th>Fare_grp_1</th>\n      <th>Fare_grp_2</th>\n      <th>Fare_grp_3</th>\n      <th>Fare_grp_4</th>\n      <th>Fare_grp_5</th>\n      <th>Embarked_C</th>\n      <th>Embarked_Q</th>\n      <th>Embarked_S</th>\n      <th>Title_Girl</th>\n      <th>Title_Master</th>\n      <th>Title_Miss</th>\n      <th>Title_Mr</th>\n      <th>Title_Mrs</th>\n    </tr>\n  </thead>\n  <tbody>\n    <tr>\n      <th>891</th>\n      <td>34.5</td>\n      <td>7.82920</td>\n      <td>0</td>\n      <td>3</td>\n      <td>1</td>\n      <td>0</td>\n      <td>0</td>\n      <td>1</td>\n      <td>1</td>\n      <td>10</td>\n      <td>0</td>\n      <td>0</td>\n      <td>1</td>\n      <td>0</td>\n      <td>0</td>\n      <td>0</td>\n      <td>1</td>\n      <td>0</td>\n      <td>0</td>\n      <td>0</td>\n      <td>0</td>\n      <td>1</td>\n      <td>0</td>\n      <td>0</td>\n      <td>0</td>\n      <td>0</td>\n      <td>1</td>\n      <td>0</td>\n    </tr>\n    <tr>\n      <th>892</th>\n      <td>47.0</td>\n      <td>7.00000</td>\n      <td>0</td>\n      <td>3</td>\n      <td>0</td>\n      <td>0</td>\n      <td>1</td>\n      <td>2</td>\n      <td>0</td>\n      <td>6</td>\n      <td>0</td>\n      <td>0</td>\n      <td>1</td>\n      <td>0</td>\n      <td>0</td>\n      <td>1</td>\n      <td>0</td>\n      <td>0</td>\n      <td>0</td>\n      <td>0</td>\n      <td>0</td>\n      <td>0</td>\n      <td>1</td>\n      <td>0</td>\n      <td>0</td>\n      <td>0</td>\n      <td>0</td>\n      <td>1</td>\n    </tr>\n    <tr>\n      <th>893</th>\n      <td>62.0</td>\n      <td>9.68750</td>\n      <td>0</td>\n      <td>2</td>\n      <td>1</td>\n      <td>0</td>\n      <td>0</td>\n      <td>1</td>\n      <td>1</td>\n      <td>10</td>\n      <td>0</td>\n      <td>0</td>\n      <td>0</td>\n      <td>1</td>\n      <td>0</td>\n      <td>0</td>\n      <td>0</td>\n      <td>1</td>\n      <td>0</td>\n      <td>0</td>\n      <td>0</td>\n      <td>1</td>\n      <td>0</td>\n      <td>0</td>\n      <td>0</td>\n      <td>0</td>\n      <td>1</td>\n      <td>0</td>\n    </tr>\n    <tr>\n      <th>894</th>\n      <td>27.0</td>\n      <td>8.66250</td>\n      <td>0</td>\n      <td>3</td>\n      <td>1</td>\n      <td>0</td>\n      <td>0</td>\n      <td>1</td>\n      <td>1</td>\n      <td>10</td>\n      <td>0</td>\n      <td>1</td>\n      <td>0</td>\n      <td>0</td>\n      <td>0</td>\n      <td>0</td>\n      <td>0</td>\n      <td>1</td>\n      <td>0</td>\n      <td>0</td>\n      <td>0</td>\n      <td>0</td>\n      <td>1</td>\n      <td>0</td>\n      <td>0</td>\n      <td>0</td>\n      <td>1</td>\n      <td>0</td>\n    </tr>\n    <tr>\n      <th>895</th>\n      <td>22.0</td>\n      <td>6.14375</td>\n      <td>0</td>\n      <td>3</td>\n      <td>0</td>\n      <td>1</td>\n      <td>1</td>\n      <td>3</td>\n      <td>0</td>\n      <td>6</td>\n      <td>0</td>\n      <td>1</td>\n      <td>0</td>\n      <td>0</td>\n      <td>0</td>\n      <td>1</td>\n      <td>0</td>\n      <td>0</td>\n      <td>0</td>\n      <td>0</td>\n      <td>0</td>\n      <td>0</td>\n      <td>1</td>\n      <td>0</td>\n      <td>0</td>\n      <td>0</td>\n      <td>0</td>\n      <td>1</td>\n    </tr>\n  </tbody>\n</table>\n</div>"
          },
          "metadata": {}
        },
        {
          "output_type": "stream",
          "text": "KNN :: 0.8306116383968009 , [ 0.82122905  0.80446927  0.8258427   0.83146067  0.8700565 ]\nLR :: 0.8238953154972345 , [ 0.81564246  0.79888268  0.81460674  0.80898876  0.88135593]\nNB :: 0.7868853569436274 , [ 0.75977654  0.76536313  0.79213483  0.76404494  0.85310734]\n",
          "name": "stdout"
        },
        {
          "output_type": "stream",
          "text": "SVM :: 0.8317478589694896 , [ 0.81005587  0.81005587  0.83146067  0.83146067  0.87570621]\nTree :: 0.7946682852286361 , [ 0.75418994  0.79329609  0.82022472  0.80337079  0.80225989]\nRF :: 0.8002866173934414 , [ 0.79888268  0.77653631  0.82022472  0.7752809   0.83050847]\n",
          "name": "stdout"
        },
        {
          "output_type": "stream",
          "text": "GB :: 0.8474469525535084 , [ 0.84357542  0.81564246  0.85955056  0.83146067  0.88700565]\n",
          "name": "stdout"
        },
        {
          "output_type": "stream",
          "text": "Ada :: 0.8249683398072266 , [ 0.81005587  0.82122905  0.8258427   0.81460674  0.85310734]\n",
          "name": "stdout"
        },
        {
          "output_type": "stream",
          "text": "KNN :: 0.8160172381814654 , [ 0.79888268  0.79888268  0.81460674  0.81460674  0.85310734]\nLR :: 0.8216543306285191 , [ 0.81005587  0.79329609  0.81460674  0.81460674  0.87570621]\nNB :: 0.7666606378425037 , [ 0.75977654  0.76536313  0.79213483  0.66292135  0.85310734]\n",
          "name": "stdout"
        },
        {
          "output_type": "stream",
          "text": "SVM :: 0.8406739232431386 , [ 0.84916201  0.83240223  0.83146067  0.80898876  0.88135593]\n",
          "name": "stdout"
        },
        {
          "output_type": "stream",
          "text": "Tree :: 0.7980518386672468 , [ 0.77094972  0.78212291  0.82022472  0.79775281  0.81920904]\nRF :: 0.8126274786003339 , [ 0.80446927  0.79888268  0.83707865  0.78089888  0.84180791]\n",
          "name": "stdout"
        },
        {
          "output_type": "stream",
          "text": "GB :: 0.8474469525535084 , [ 0.84357542  0.81564246  0.85955056  0.83146067  0.88700565]\n",
          "name": "stdout"
        },
        {
          "output_type": "stream",
          "text": "Ada :: 0.8249683398072266 , [ 0.81005587  0.82122905  0.8258427   0.81460674  0.85310734]\n",
          "name": "stdout"
        },
        {
          "output_type": "execute_result",
          "execution_count": 1577,
          "data": {
            "text/plain": "<matplotlib.axes._subplots.AxesSubplot at 0x7f70c44b5198>"
          },
          "metadata": {}
        },
        {
          "output_type": "display_data",
          "transient": {},
          "data": {
            "text/plain": "<matplotlib.figure.Figure at 0x7f70c4a55400>",
            "image/png": "[encoded data removed]"
          },
          "metadata": {}
        },
        {
          "output_type": "execute_result",
          "execution_count": 1578,
          "data": {
            "text/plain": "array([  2,  14,  17,  18,  21,  23,  25,  36,  41,  49,  55,  68,  74,\n        79,  81,  97, 100, 107, 109, 114, 118, 125, 127, 137, 140, 146,\n       165, 177, 186, 187, 192, 199, 204, 205, 207, 209, 220, 224, 226,\n       233, 235, 245, 246, 248, 251, 261, 264, 267, 271, 273, 279, 283,\n       286, 288, 297, 301, 312, 328, 330, 338, 339, 347, 357, 391, 396,\n       400, 414, 415, 419, 423, 429, 430, 444, 447, 449, 452, 453, 455,\n       460, 484, 498, 501, 502, 505, 507, 509, 510, 533, 543, 547, 550,\n       553, 559, 564, 569, 570, 578, 579, 587, 593, 599, 604, 622, 630,\n       643, 645, 647, 654, 657, 660, 664, 673, 677, 680, 681, 692, 698,\n       711, 712, 741, 744, 748, 762, 767, 772, 782, 799, 804, 807, 816,\n       821, 828, 838, 839, 852, 854, 857])"
          },
          "metadata": {}
        },
        {
          "output_type": "execute_result",
          "execution_count": 1579,
          "data": {
            "text/plain": "137"
          },
          "metadata": {}
        },
        {
          "output_type": "execute_result",
          "execution_count": 1580,
          "data": {
            "text/plain": "     Age Age_grp Fare_grp  Fare_per_person  Cabin_survived  Survived Embarked  \\\n2   26.0       2        3           7.9250               0       1.0        S   \n14  14.0       1        2           7.8542               0       0.0        S   \n17  30.0       2        4          13.0000               0       1.0        S   \n18  31.0       2        3           9.0000               0       0.0        S   \n21  34.0       3        4          13.0000               1       1.0        S   \n\n    Pclass  Sex Title  Parch  SibSp  Family  IsAlone  TPA_range  \n2        3    0  Miss      0      0       1        1          5  \n14       3    0  Girl      0      0       1        1          4  \n17       2    1    Mr      0      0       1        1         10  \n18       3    0   Mrs      0      1       2        0          6  \n21       2    1    Mr      0      0       1        1         10  ",
            "text/html": "<div>\n<style>\n    .dataframe thead tr:only-child th {\n        text-align: right;\n    }\n\n    .dataframe thead th {\n        text-align: left;\n    }\n\n    .dataframe tbody tr th {\n        vertical-align: top;\n    }\n</style>\n<table border=\"1\" class=\"dataframe\">\n  <thead>\n    <tr style=\"text-align: right;\">\n      <th></th>\n      <th>Age</th>\n      <th>Age_grp</th>\n      <th>Fare_grp</th>\n      <th>Fare_per_person</th>\n      <th>Cabin_survived</th>\n      <th>Survived</th>\n      <th>Embarked</th>\n      <th>Pclass</th>\n      <th>Sex</th>\n      <th>Title</th>\n      <th>Parch</th>\n      <th>SibSp</th>\n      <th>Family</th>\n      <th>IsAlone</th>\n      <th>TPA_range</th>\n    </tr>\n  </thead>\n  <tbody>\n    <tr>\n      <th>2</th>\n      <td>26.0</td>\n      <td>2</td>\n      <td>3</td>\n      <td>7.9250</td>\n      <td>0</td>\n      <td>1.0</td>\n      <td>S</td>\n      <td>3</td>\n      <td>0</td>\n      <td>Miss</td>\n      <td>0</td>\n      <td>0</td>\n      <td>1</td>\n      <td>1</td>\n      <td>5</td>\n    </tr>\n    <tr>\n      <th>14</th>\n      <td>14.0</td>\n      <td>1</td>\n      <td>2</td>\n      <td>7.8542</td>\n      <td>0</td>\n      <td>0.0</td>\n      <td>S</td>\n      <td>3</td>\n      <td>0</td>\n      <td>Girl</td>\n      <td>0</td>\n      <td>0</td>\n      <td>1</td>\n      <td>1</td>\n      <td>4</td>\n    </tr>\n    <tr>\n      <th>17</th>\n      <td>30.0</td>\n      <td>2</td>\n      <td>4</td>\n      <td>13.0000</td>\n      <td>0</td>\n      <td>1.0</td>\n      <td>S</td>\n      <td>2</td>\n      <td>1</td>\n      <td>Mr</td>\n      <td>0</td>\n      <td>0</td>\n      <td>1</td>\n      <td>1</td>\n      <td>10</td>\n    </tr>\n    <tr>\n      <th>18</th>\n      <td>31.0</td>\n      <td>2</td>\n      <td>3</td>\n      <td>9.0000</td>\n      <td>0</td>\n      <td>0.0</td>\n      <td>S</td>\n      <td>3</td>\n      <td>0</td>\n      <td>Mrs</td>\n      <td>0</td>\n      <td>1</td>\n      <td>2</td>\n      <td>0</td>\n      <td>6</td>\n    </tr>\n    <tr>\n      <th>21</th>\n      <td>34.0</td>\n      <td>3</td>\n      <td>4</td>\n      <td>13.0000</td>\n      <td>1</td>\n      <td>1.0</td>\n      <td>S</td>\n      <td>2</td>\n      <td>1</td>\n      <td>Mr</td>\n      <td>0</td>\n      <td>0</td>\n      <td>1</td>\n      <td>1</td>\n      <td>10</td>\n    </tr>\n  </tbody>\n</table>\n</div>"
          },
          "metadata": {}
        },
        {
          "output_type": "execute_result",
          "execution_count": 1581,
          "data": {
            "text/plain": "                           mean  count\nTitle  Pclass IsAlone                 \nGirl   1      0        0.000000      1\n       3      0        0.250000      4\n              1        0.000000      1\nMaster 3      0        1.000000      3\nMiss   1      1        0.000000      1\n       2      1        0.000000      2\n       3      0        0.800000      5\n              1        0.176471     17\nMr     1      0        0.578947     19\n              1        0.789474     19\n       2      0        1.000000      1\n              1        1.000000      7\n       3      0        1.000000      4\n              1        1.000000     32\nMrs    1      0        0.000000      1\n       2      0        0.000000      3\n              1        0.000000      1\n       3      0        0.466667     15\n              1        0.000000      1",
            "text/html": "<div>\n<style>\n    .dataframe thead tr:only-child th {\n        text-align: right;\n    }\n\n    .dataframe thead th {\n        text-align: left;\n    }\n\n    .dataframe tbody tr th {\n        vertical-align: top;\n    }\n</style>\n<table border=\"1\" class=\"dataframe\">\n  <thead>\n    <tr style=\"text-align: right;\">\n      <th></th>\n      <th></th>\n      <th></th>\n      <th>mean</th>\n      <th>count</th>\n    </tr>\n    <tr>\n      <th>Title</th>\n      <th>Pclass</th>\n      <th>IsAlone</th>\n      <th></th>\n      <th></th>\n    </tr>\n  </thead>\n  <tbody>\n    <tr>\n      <th rowspan=\"3\" valign=\"top\">Girl</th>\n      <th>1</th>\n      <th>0</th>\n      <td>0.000000</td>\n      <td>1</td>\n    </tr>\n    <tr>\n      <th rowspan=\"2\" valign=\"top\">3</th>\n      <th>0</th>\n      <td>0.250000</td>\n      <td>4</td>\n    </tr>\n    <tr>\n      <th>1</th>\n      <td>0.000000</td>\n      <td>1</td>\n    </tr>\n    <tr>\n      <th>Master</th>\n      <th>3</th>\n      <th>0</th>\n      <td>1.000000</td>\n      <td>3</td>\n    </tr>\n    <tr>\n      <th rowspan=\"4\" valign=\"top\">Miss</th>\n      <th>1</th>\n      <th>1</th>\n      <td>0.000000</td>\n      <td>1</td>\n    </tr>\n    <tr>\n      <th>2</th>\n      <th>1</th>\n      <td>0.000000</td>\n      <td>2</td>\n    </tr>\n    <tr>\n      <th rowspan=\"2\" valign=\"top\">3</th>\n      <th>0</th>\n      <td>0.800000</td>\n      <td>5</td>\n    </tr>\n    <tr>\n      <th>1</th>\n      <td>0.176471</td>\n      <td>17</td>\n    </tr>\n    <tr>\n      <th rowspan=\"6\" valign=\"top\">Mr</th>\n      <th rowspan=\"2\" valign=\"top\">1</th>\n      <th>0</th>\n      <td>0.578947</td>\n      <td>19</td>\n    </tr>\n    <tr>\n      <th>1</th>\n      <td>0.789474</td>\n      <td>19</td>\n    </tr>\n    <tr>\n      <th rowspan=\"2\" valign=\"top\">2</th>\n      <th>0</th>\n      <td>1.000000</td>\n      <td>1</td>\n    </tr>\n    <tr>\n      <th>1</th>\n      <td>1.000000</td>\n      <td>7</td>\n    </tr>\n    <tr>\n      <th rowspan=\"2\" valign=\"top\">3</th>\n      <th>0</th>\n      <td>1.000000</td>\n      <td>4</td>\n    </tr>\n    <tr>\n      <th>1</th>\n      <td>1.000000</td>\n      <td>32</td>\n    </tr>\n    <tr>\n      <th rowspan=\"5\" valign=\"top\">Mrs</th>\n      <th>1</th>\n      <th>0</th>\n      <td>0.000000</td>\n      <td>1</td>\n    </tr>\n    <tr>\n      <th rowspan=\"2\" valign=\"top\">2</th>\n      <th>0</th>\n      <td>0.000000</td>\n      <td>3</td>\n    </tr>\n    <tr>\n      <th>1</th>\n      <td>0.000000</td>\n      <td>1</td>\n    </tr>\n    <tr>\n      <th rowspan=\"2\" valign=\"top\">3</th>\n      <th>0</th>\n      <td>0.466667</td>\n      <td>15</td>\n    </tr>\n    <tr>\n      <th>1</th>\n      <td>0.000000</td>\n      <td>1</td>\n    </tr>\n  </tbody>\n</table>\n</div>"
          },
          "metadata": {}
        },
        {
          "output_type": "execute_result",
          "execution_count": 1583,
          "data": {
            "text/plain": "Age                float64\nFare_per_person    float64\nCabin_survived       int64\nSurvived           float64\nPclass               int64\nSex                  int64\nParch                int64\nSibSp                int64\nFamily               int64\nIsAlone              int64\nTPA_range            int64\nAge_grp_1            uint8\nAge_grp_2            uint8\nAge_grp_3            uint8\nAge_grp_4            uint8\nAge_grp_5            uint8\nFare_grp_1           uint8\nFare_grp_2           uint8\nFare_grp_3           uint8\nFare_grp_4           uint8\nFare_grp_5           uint8\nEmbarked_C           uint8\nEmbarked_Q           uint8\nEmbarked_S           uint8\nTitle_Girl           uint8\nTitle_Master         uint8\nTitle_Miss           uint8\nTitle_Mr             uint8\nTitle_Mrs            uint8\ndtype: object"
          },
          "metadata": {}
        },
        {
          "output_type": "execute_result",
          "execution_count": 1584,
          "data": {
            "text/plain": "array([  2,  14,  17,  18,  21,  23,  25,  36,  41,  49,  55,  68,  74,\n        79,  81,  97, 100, 107, 109, 114, 118, 125, 127, 137, 140, 146,\n       165, 177, 186, 187, 192, 199, 204, 205, 207, 209, 220, 224, 226,\n       233, 235, 245, 246, 248, 251, 261, 264, 267, 271, 273, 279, 283,\n       286, 288, 297, 301, 312, 328, 330, 338, 339, 347, 357, 391, 396,\n       400, 414, 415, 419, 423, 429, 430, 444, 447, 449, 452, 453, 455,\n       460, 484, 498, 501, 502, 505, 507, 509, 510, 533, 543, 547, 550,\n       553, 559, 564, 569, 570, 578, 579, 587, 593, 599, 604, 622, 630,\n       643, 645, 647, 654, 657, 660, 664, 673, 677, 680, 681, 692, 698,\n       711, 712, 741, 744, 748, 762, 767, 772, 782, 799, 804, 807, 816,\n       821, 828, 838, 839, 852, 854, 857])"
          },
          "metadata": {}
        },
        {
          "output_type": "execute_result",
          "execution_count": 1585,
          "data": {
            "text/plain": "137"
          },
          "metadata": {}
        },
        {
          "output_type": "error",
          "ename": "NameError",
          "evalue": "name 'GridSearchC' is not defined",
          "traceback": [
            "\u001b[0;31m---------------------------------------------------------------------------\u001b[0m",
            "\u001b[0;31mNameError\u001b[0m                                 Traceback (most recent call last)",
            "\u001b[0;32m<ipython-input-1586-60211d9f4fdb>\u001b[0m in \u001b[0;36m<module>\u001b[0;34m()\u001b[0m\n\u001b[1;32m      1\u001b[0m \u001b[0mparameter_grid\u001b[0m \u001b[0;34m=\u001b[0m \u001b[0;34m{\u001b[0m\u001b[0;34m'n_neighbors'\u001b[0m\u001b[0;34m:\u001b[0m\u001b[0;34m[\u001b[0m\u001b[0;36m4\u001b[0m\u001b[0;34m,\u001b[0m\u001b[0;36m5\u001b[0m\u001b[0;34m,\u001b[0m\u001b[0;36m6\u001b[0m\u001b[0;34m,\u001b[0m\u001b[0;36m7\u001b[0m\u001b[0;34m,\u001b[0m\u001b[0;36m8\u001b[0m\u001b[0;34m]\u001b[0m\u001b[0;34m,\u001b[0m \u001b[0;34m'algorithm'\u001b[0m\u001b[0;34m:\u001b[0m\u001b[0;34m[\u001b[0m\u001b[0;34m'auto'\u001b[0m\u001b[0;34m,\u001b[0m\u001b[0;34m'ball_tree'\u001b[0m\u001b[0;34m,\u001b[0m\u001b[0;34m'kd_tree'\u001b[0m\u001b[0;34m,\u001b[0m\u001b[0;34m'brute'\u001b[0m\u001b[0;34m]\u001b[0m\u001b[0;34m}\u001b[0m\u001b[0;34m\u001b[0m\u001b[0m\n\u001b[0;32m----> 2\u001b[0;31m \u001b[0mKNN\u001b[0m \u001b[0;34m=\u001b[0m \u001b[0mGridSearchC\u001b[0m\u001b[0;34m(\u001b[0m\u001b[0mKNeighborsClassifier\u001b[0m\u001b[0;34m(\u001b[0m\u001b[0;34m)\u001b[0m\u001b[0;34m,\u001b[0m\u001b[0mparameter_grid\u001b[0m\u001b[0;34m,\u001b[0m\u001b[0mcv\u001b[0m\u001b[0;34m=\u001b[0m\u001b[0;36m5\u001b[0m\u001b[0;34m)\u001b[0m\u001b[0;34m\u001b[0m\u001b[0m\n\u001b[0m\u001b[1;32m      3\u001b[0m \u001b[0mKNN\u001b[0m\u001b[0;34m.\u001b[0m\u001b[0mfit\u001b[0m\u001b[0;34m(\u001b[0m\u001b[0mtrain_features_scaled\u001b[0m\u001b[0;34m,\u001b[0m\u001b[0mtrain_labels\u001b[0m\u001b[0;34m)\u001b[0m\u001b[0;34m\u001b[0m\u001b[0m\n\u001b[1;32m      4\u001b[0m \u001b[0mprint\u001b[0m\u001b[0;34m(\u001b[0m\u001b[0;34m'parameter_grid1 : '\u001b[0m\u001b[0;34m,\u001b[0m\u001b[0mKNN\u001b[0m\u001b[0;34m.\u001b[0m\u001b[0mbest_params_\u001b[0m\u001b[0;34m,\u001b[0m\u001b[0mKNN\u001b[0m\u001b[0;34m.\u001b[0m\u001b[0mbest_score_\u001b[0m\u001b[0;34m)\u001b[0m\u001b[0;34m\u001b[0m\u001b[0m\n",
            "\u001b[0;31mNameError\u001b[0m: name 'GridSearchC' is not defined"
          ]
        }
      ]
    }
  ],
  "metadata": {
    "kernelspec": {
      "display_name": "Python 3",
      "language": "python",
      "name": "python3"
    },
    "language_info": {
      "name": "python",
      "version": "3.6.1",
      "mimetype": "text/x-python",
      "codemirror_mode": {
        "name": "ipython",
        "version": 3
      },
      "pygments_lexer": "ipython3",
      "nbconvert_exporter": "python",
      "file_extension": ".py"
    }
  },
  "nbformat": 4,
  "nbformat_minor": 1
}